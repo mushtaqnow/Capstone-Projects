{
 "cells": [
  {
   "cell_type": "markdown",
   "metadata": {},
   "source": [
    "\n",
    "                                             Factors that infulence making money\n",
    "                                             \n",
    "I will investigate a few facts using the dataset downloaded from  UCI Machine Learning Repository in the following\n",
    "link:\n",
    "https://archive.ics.uci.edu/ml/datasets/adult\n",
    "\n",
    "The dataset comes with factors (predictor variables) that help an individual to become rich (response variable). \n",
    "After wrangling, the dataset has 30,161 rows with fourteen features. This is a labelled dataset with a response \n",
    "variable rich. A person is rich if he or she makes more than $50,000 otherwise the person is not rich.\n",
    "\n"
   ]
  },
  {
   "cell_type": "markdown",
   "metadata": {},
   "source": []
  },
  {
   "cell_type": "markdown",
   "metadata": {},
   "source": [
    "# Read the data"
   ]
  },
  {
   "cell_type": "markdown",
   "metadata": {},
   "source": [
    "Rename some of the columns' name and delete the column that provides information about the sample time"
   ]
  },
  {
   "cell_type": "code",
   "execution_count": 1,
   "metadata": {},
   "outputs": [
    {
     "name": "stdout",
     "output_type": "stream",
     "text": [
      "['age', 'work_class', 'edu_level', 'yrs_edu', 'marital_stat', 'occupation', 'family_stat', 'race', 'gender', 'capital_gain', 'capital_loss', 'hrs_week', 'native_country', 'target']\n"
     ]
    }
   ],
   "source": [
    "import pandas as pd\n",
    "import matplotlib.pyplot as plt\n",
    "import os\n",
    "\n",
    "\n",
    "#help(pd.read_csv)\n",
    "df=pd.read_csv(r\"C:\\users\\musht\\input\\\\adult.csv\",sep='\\s*,\\s*',header=0, encoding='ascii', engine='python')\n",
    "\n",
    "# Let's change the name of the few columns to make them more interesting and intuitive.\n",
    "df=df.rename({'39':'age'}, axis=1)\n",
    "df=df.rename({'State-gov':'work_class'}, axis=1)\n",
    "df=df.rename({'13':'yrs_edu'}, axis=1)\n",
    "df=df.rename({'Never-married':'marital_stat'}, axis=1)\n",
    "df=df.rename({'Bachelors':'edu_level'},axis=1)\n",
    "df=df.rename({'Adm-clerical':'occupation'},axis=1)\n",
    "df=df.rename({'White':'race'},axis=1)\n",
    "df=df.rename({'Male':'gender'},axis=1)\n",
    "df=df.rename({'2174':'capital_gain'},axis=1)\n",
    "df=df.rename({'0':'capital_loss'},axis=1)\n",
    "df=df.rename({'40':'hrs_week'},axis=1)\n",
    "df=df.rename({'United-States':'native_country'},axis=1)\n",
    "df=df.rename({'Not-in-family':'family_stat'},axis=1)\n",
    "df=df.rename({'<=50K':'target'},axis=1)\n",
    "del df['77516']# sample type information is deleted\n",
    "df.head()\n",
    "cc=list(df.columns)\n",
    "print (cc)"
   ]
  },
  {
   "cell_type": "code",
   "execution_count": null,
   "metadata": {},
   "outputs": [],
   "source": []
  },
  {
   "cell_type": "code",
   "execution_count": 2,
   "metadata": {},
   "outputs": [
    {
     "name": "stdout",
     "output_type": "stream",
     "text": [
      "<class 'pandas.core.frame.DataFrame'>\n",
      "RangeIndex: 32560 entries, 0 to 32559\n",
      "Data columns (total 14 columns):\n",
      "age               32560 non-null int64\n",
      "work_class        32560 non-null object\n",
      "edu_level         32560 non-null object\n",
      "yrs_edu           32560 non-null int64\n",
      "marital_stat      32560 non-null object\n",
      "occupation        32560 non-null object\n",
      "family_stat       32560 non-null object\n",
      "race              32560 non-null object\n",
      "gender            32560 non-null object\n",
      "capital_gain      32560 non-null int64\n",
      "capital_loss      32560 non-null int64\n",
      "hrs_week          32560 non-null int64\n",
      "native_country    32560 non-null object\n",
      "target            32560 non-null object\n",
      "dtypes: int64(5), object(9)\n",
      "memory usage: 3.5+ MB\n"
     ]
    }
   ],
   "source": [
    "# Are there missing values\n",
    "df.info()"
   ]
  },
  {
   "cell_type": "markdown",
   "metadata": {},
   "source": [
    "Find the missing columns and delete them as all of the missing values fall in the same intances for three different columns"
   ]
  },
  {
   "cell_type": "code",
   "execution_count": 3,
   "metadata": {},
   "outputs": [
    {
     "data": {
      "text/plain": [
       "age               0\n",
       "work_class        0\n",
       "edu_level         0\n",
       "yrs_edu           0\n",
       "marital_stat      0\n",
       "occupation        0\n",
       "family_stat       0\n",
       "race              0\n",
       "gender            0\n",
       "capital_gain      0\n",
       "capital_loss      0\n",
       "hrs_week          0\n",
       "native_country    0\n",
       "target            0\n",
       "dtype: int64"
      ]
     },
     "execution_count": 3,
     "metadata": {},
     "output_type": "execute_result"
    }
   ],
   "source": [
    "# Let's take care of the missing values\n",
    "# Delete the missing values as all missing are in three columns of the same row\n",
    "import numpy as np\n",
    "df['work_class'].replace('?',np.nan,inplace=True)\n",
    "df['occupation'].replace('?',np.nan,inplace=True)\n",
    "df['native_country'].replace('?',np.nan,inplace=True)\n",
    "df.isnull().sum()\n",
    "df.dropna(inplace=True)\n",
    "df.isnull().sum()"
   ]
  },
  {
   "cell_type": "code",
   "execution_count": null,
   "metadata": {},
   "outputs": [],
   "source": []
  },
  {
   "cell_type": "code",
   "execution_count": 4,
   "metadata": {},
   "outputs": [
    {
     "data": {
      "text/plain": [
       "(30161, 14)"
      ]
     },
     "execution_count": 4,
     "metadata": {},
     "output_type": "execute_result"
    }
   ],
   "source": [
    "df.shape"
   ]
  },
  {
   "cell_type": "code",
   "execution_count": null,
   "metadata": {},
   "outputs": [],
   "source": []
  },
  {
   "cell_type": "markdown",
   "metadata": {},
   "source": [
    "# We will prepare the data for the exploration analysis first and then later in this book we will prepare the final data to run the algorithm.\n",
    "\n",
    "Investigation I\n",
    "Do males make more money than their female counterparts? It is a well-established fact that a male makes more\n",
    "money than his female-counterpart with same education level, experience and job title/position.\n",
    "I will explore this fact in my analysis.\n",
    "\n",
    "Investigation II\n",
    "Do never-married  individuals make more money than others? It is interesting to see whether a family helps or not.\n",
    "For an appropriate analysis we will include only participants above age 35.\n",
    "\n",
    "Investigation III\n",
    "Does higher education help to make more money? Obviously, it does. I will explore this issue in my analysis.\n",
    "\n",
    "Investigaion IV\n",
    "Does the higher income group have more percetage of holding stock? That seems to the case.\n"
   ]
  },
  {
   "cell_type": "markdown",
   "metadata": {},
   "source": [
    "Investigation I: Do males make more money than their famle-counterparts with same education and job positions\n",
    "We will target those individulas with eductional achievement bachelor degree and above and same job titles: Exec-managerial and \n",
    "Prof-specialty. "
   ]
  },
  {
   "cell_type": "code",
   "execution_count": 5,
   "metadata": {},
   "outputs": [
    {
     "name": "stdout",
     "output_type": "stream",
     "text": [
      "Table 1: Showing counts of data based on gender and amount of money\n",
      "  gender  target\n",
      "Female  <=50K     1013\n",
      "        >50K       474\n",
      "Male    <=50K     1189\n",
      "        >50K      2275\n",
      "Name: target, dtype: int64\n"
     ]
    }
   ],
   "source": [
    "# pull out data for Investigation I. Combine backgrounds education levels and occupation\n",
    "\n",
    "get_ed=df[(df['edu_level']=='Bachelors')|(df['edu_level']=='Masters')|(df['edu_level']=='Doctorate')|(df['edu_level']=='Prof-school')]\n",
    "data1=get_ed[(get_ed['occupation']=='Exec-managerial')|(get_ed['occupation']=='Prof-specialty')]\n",
    "count_data1=data1.groupby(['gender','target'])['target'].count()\n",
    "print (\"Table 1: Showing counts of data based on gender and amount of money\\n \",count_data1)"
   ]
  },
  {
   "cell_type": "code",
   "execution_count": 6,
   "metadata": {},
   "outputs": [],
   "source": [
    "#write a function that will return percent of a binary catagorical variables and the target variable rich or not.\n",
    "# we can use this function frequently in this analysis\n",
    "\n",
    "def find_percent(frame, col1,col2): # col1 and col2 should be binary catagorical variables\n",
    "    capture=frame.groupby([col1,col2])[col1].count().to_dict()\n",
    "    listthem=[]\n",
    "    for key, value in capture.items():\n",
    "        temp=key\n",
    "        first=temp[0]\n",
    "        second=temp[1]\n",
    "        listtemp=[]\n",
    "        listtemp.append(first)\n",
    "        listtemp.append(second)\n",
    "        listtemp.append(value)\n",
    "        listthem.append(listtemp)\n",
    "        listtemp=[]\n",
    "    col1_first=listthem[0][2]+listthem[1][2]\n",
    "    col1_first_pecent_over50K=listthem[1][2]/col1_first*100\n",
    "    col1_second=listthem[2][2]+listthem[3][2]\n",
    "    col1_second_pecent_over50K=listthem[3][2]/col1_second*100\n",
    "    x=[listthem[0][0],listthem[2][0]]\n",
    "\n",
    "    y=[col1_first_pecent_over50K,col1_second_pecent_over50K]\n",
    "    return x,y\n"
   ]
  },
  {
   "cell_type": "code",
   "execution_count": 7,
   "metadata": {},
   "outputs": [
    {
     "data": {
      "image/png": "[encoded data removed]",
      "text/plain": [
       "<Figure size 432x288 with 1 Axes>"
      ]
     },
     "metadata": {
      "needs_background": "light"
     },
     "output_type": "display_data"
    }
   ],
   "source": [
    "# visual display of Investigation I\n",
    "# invoke the function on data1: male and female with same two occupations and higher level education: \n",
    "#Bachelor and above. We will look at two groups: all persons and selected persons as mentioned above\n",
    "\n",
    "import numpy as np\n",
    "import matplotlib.pyplot as plt\n",
    "\n",
    "# pull the data again\n",
    "\n",
    "allx,ally=find_percent(df,'gender','target')# all data\n",
    "selectedx, selectedy=find_percent(data1,'gender','target')# selected data\n",
    "\n",
    "plt.show()\n",
    "# create plot\n",
    "index = np.arange(2)\n",
    "fig, ax = plt.subplots()\n",
    "#index = np.arange(n_groups)\n",
    "bar_width = 0.35\n",
    "opacity = 0.8\n",
    "\n",
    "alldata = plt.bar(allx, ally, bar_width,\n",
    "alpha=opacity,\n",
    "color='b',\n",
    "label='All Data')\n",
    "\n",
    "selected = plt.bar(index + bar_width, selectedy, bar_width,\n",
    "alpha=opacity,\n",
    "color='g',\n",
    "label='Selected Group')\n",
    "plt.xlabel('Genders with all and selected group')\n",
    "plt.ylabel('Percentages of making above $50K')\n",
    "plt.title('Table 2: Pecentage comparison of males and female making above $50K\\n')\n",
    "plt.xticks(index + bar_width-.2, ('Female','Male'))\n",
    "plt.legend()\n",
    "plt.tight_layout()\n",
    "plt.show()\n"
   ]
  },
  {
   "cell_type": "markdown",
   "metadata": {},
   "source": [
    "Conclusion to Analysis I: The data suggests the established fact that male makes more than his female counterpart\n",
    "with similar background. Our anaysis shows that only 32% females make above $50,000 whereas 63% of their\n",
    "counterparts make above $50,000 when considering a selected group with similar college education and special job titles.The gap is higher (11% to 34%) when we consider the wohole population."
   ]
  },
  {
   "cell_type": "code",
   "execution_count": null,
   "metadata": {},
   "outputs": [],
   "source": []
  },
  {
   "cell_type": "markdown",
   "metadata": {},
   "source": [
    " Do never-married are richer than other matrital groups? We consider only persons older than 35."
   ]
  },
  {
   "cell_type": "code",
   "execution_count": 8,
   "metadata": {},
   "outputs": [
    {
     "data": {
      "image/png": "[encoded data removed]",
      "text/plain": [
       "<Figure size 432x288 with 1 Axes>"
      ]
     },
     "metadata": {
      "needs_background": "light"
     },
     "output_type": "display_data"
    },
    {
     "data": {
      "text/plain": [
       "change_marital  target\n",
       "Never-married   <=50K     1591\n",
       "                >50K       250\n",
       "other           <=50K     8975\n",
       "                >50K      5607\n",
       "Name: target, dtype: int64"
      ]
     },
     "execution_count": 8,
     "metadata": {},
     "output_type": "execute_result"
    }
   ],
   "source": [
    "#Investigation I - pull data now\n",
    "married_data=df.copy()\n",
    "married_data['change_marital']=df['marital_stat'].apply(lambda x: 'other' if x!='Never-married' else x)\n",
    "married_data=married_data[married_data['age']>35]\n",
    "married_data['change_marital'].value_counts()\n",
    "x,y=find_percent(married_data, 'change_marital','target')\n",
    "plt.bar(x,y, color='y')\n",
    "plt.ylabel('percentages - over $50,00')\n",
    "plt.title('Percentages of never-married and other people are making more than $50,00\\n')\n",
    "\n",
    "plt.show()\n",
    "\n",
    "married_data.groupby(['change_marital','target'])['target'].count()"
   ]
  },
  {
   "cell_type": "markdown",
   "metadata": {},
   "source": [
    "Conclusion to Investigation II: Less than 14% of never-married individuals as compared 39% of others make more \n",
    "than $50,00. A hypothesis could be investigated further that being married helps to become rich."
   ]
  },
  {
   "cell_type": "code",
   "execution_count": null,
   "metadata": {},
   "outputs": [],
   "source": []
  },
  {
   "cell_type": "code",
   "execution_count": 9,
   "metadata": {},
   "outputs": [],
   "source": [
    "#Investigation III\n",
    "# Is there any relationship between higher education and being rich"
   ]
  },
  {
   "cell_type": "code",
   "execution_count": 10,
   "metadata": {},
   "outputs": [
    {
     "data": {
      "image/png": "[encoded data removed]",
      "text/plain": [
       "<Figure size 432x288 with 1 Axes>"
      ]
     },
     "metadata": {
      "needs_background": "light"
     },
     "output_type": "display_data"
    },
    {
     "data": {
      "text/plain": [
       "change_education  change_target\n",
       "below college     not-rich         18796\n",
       "                  rich              3778\n",
       "higher-education  not-rich          3857\n",
       "                  rich              3730\n",
       "Name: change_target, dtype: int64"
      ]
     },
     "execution_count": 10,
     "metadata": {},
     "output_type": "execute_result"
    }
   ],
   "source": [
    "#Investigation III - pull the data\n",
    "data3=df.copy()\n",
    "data3['change_education']=data3['edu_level'].apply(lambda x: 'higher-education' if x=='Bachelors' or x=='Masters' or x=='Doctorate' or x=='Prof-school' else 'below college')\n",
    "data3['change_target']=data3['target'].apply(lambda x: 'rich' if x=='>50K' else 'not-rich')\n",
    "x,y =find_percent(data3,'change_education','change_target')\n",
    "plt.bar(x,y)\n",
    "plt.ylabel('percentages - over $50,00')\n",
    "plt.title('Percentages of below-college education  and bachelor and above are making more than $50,00\\n')\n",
    "plt.show()\n",
    "\n",
    "data3.groupby(['change_education','change_target'])['change_target'].count()\n"
   ]
  },
  {
   "cell_type": "markdown",
   "metadata": {},
   "source": [
    "Conclusion to Investigation III: This just establishes the fact that higher education helps to make more money.\n",
    "Our result indicates that only 18% of below-college educated individuals as compared to 49% of college and above educated individuals make more than $50,000"
   ]
  },
  {
   "cell_type": "code",
   "execution_count": null,
   "metadata": {},
   "outputs": [],
   "source": []
  },
  {
   "cell_type": "markdown",
   "metadata": {},
   "source": [
    "\n",
    "Does the higher income group have more percetage of holding stock? That seems to the case."
   ]
  },
  {
   "cell_type": "code",
   "execution_count": 12,
   "metadata": {},
   "outputs": [
    {
     "data": {
      "text/plain": [
       "target  stock_info\n",
       "<=50K   has_stock      1632\n",
       "        no_stock      21021\n",
       ">50K    has_stock      2332\n",
       "        no_stock       5176\n",
       "Name: stock_info, dtype: int64"
      ]
     },
     "execution_count": 12,
     "metadata": {},
     "output_type": "execute_result"
    }
   ],
   "source": [
    "#Investigation IV - pull the data now\n",
    "data4=df.copy()\n",
    "\n",
    "data4['data_stock']=(data4['capital_gain']>0)| (data4['capital_loss']>0)\n",
    "data4['stock_info']=data4['data_stock'].apply(lambda x: \"no_stock\" if x==False else 'has_stock')\n",
    "data4.groupby(['target','stock_info'])['stock_info'].count()"
   ]
  },
  {
   "cell_type": "code",
   "execution_count": 13,
   "metadata": {},
   "outputs": [
    {
     "name": "stdout",
     "output_type": "stream",
     "text": [
      "first_set  [100, 24.89307383707437, 75.10692616292563] \n",
      "second_set  [13.142800305029676, 58.82946518668012, 41.17053481331988]\n"
     ]
    }
   ],
   "source": [
    "# this set not used\n",
    "total_persons=len(data4.index)\n",
    "total_stock_holders=data4['stock_info'].value_counts()\n",
    "total_stock_holders=3964\n",
    "data4['target'].value_counts()\n",
    "total_more_50K=7508\n",
    "first_set=[100, 7508/30161*100,22653/30161*100]\n",
    "first_set\n",
    "second_set=[3964/30161*100,2332/3964*100,1632/3964*100]\n",
    "second_set\n",
    "\n",
    "print (\"first_set \",first_set,\"\\nsecond_set \", second_set)\n"
   ]
  },
  {
   "cell_type": "code",
   "execution_count": null,
   "metadata": {},
   "outputs": [],
   "source": [
    "#this set was used not the one above\n",
    "first_set=[30161,7508,22653]\n",
    "second_set=[3964,2332,1632]\n",
    "print (\"first_set \",first_set,\"\\nsecond_set \", second_set)\n"
   ]
  },
  {
   "cell_type": "code",
   "execution_count": 14,
   "metadata": {},
   "outputs": [
    {
     "data": {
      "image/png": "[encoded data removed]",
      "text/plain": [
       "<Figure size 432x288 with 1 Axes>"
      ]
     },
     "metadata": {
      "needs_background": "light"
     },
     "output_type": "display_data"
    }
   ],
   "source": [
    "# create plot\n",
    "import matplotlib as mpl\n",
    "index = np.arange(3)\n",
    "fig, ax = plt.subplots()\n",
    "#index = np.arange(n_groups)\n",
    "bar_width = 0.35\n",
    "opacity = 0.8\n",
    "\n",
    "fake=['A','B','C']\n",
    "first = plt.bar(fake, first_set, bar_width,\n",
    "alpha=opacity,\n",
    "color='b',\n",
    "label='total population for each group')\n",
    "\n",
    "second = plt.bar(index + bar_width, second_set, bar_width, alpha=opacity,color='r',label='number of individuals holding stocks')\n",
    "plt.xlabel('\\nBlue indicates total population for each group and \\nred indicates the number of individuals holding stocks from that group\\n')\n",
    "plt.ylabel('Number  of individuals')\n",
    "plt.title('Table 4: Number of individuals own stocks for each group of population\\n')\n",
    "plt.xticks(index + bar_width-.2, ('Total population','More than $50K', 'Less than $50K'))\n",
    "plt.legend()\n",
    "plt.tight_layout()\n",
    "\n",
    "ax.yaxis.set_major_formatter(mpl.ticker.StrMethodFormatter('{x:,.0f}'))\n",
    "plt.show()"
   ]
  },
  {
   "cell_type": "code",
   "execution_count": null,
   "metadata": {},
   "outputs": [],
   "source": []
  },
  {
   "cell_type": "markdown",
   "metadata": {},
   "source": [
    "Conclusion to Analysis IV: Around 13% of thetotal population own stocks. Although only 25% of population make above\n",
    "$50,000, they own 59% percent own stoks; on the otherhand, 75% of population make less than $50,000 and only 41% of them own stocks."
   ]
  },
  {
   "cell_type": "code",
   "execution_count": null,
   "metadata": {},
   "outputs": [],
   "source": []
  },
  {
   "cell_type": "markdown",
   "metadata": {},
   "source": [
    "# statistical test\n",
    "## We will  perform only two statistical tests"
   ]
  },
  {
   "cell_type": "code",
   "execution_count": 16,
   "metadata": {},
   "outputs": [
    {
     "name": "stdout",
     "output_type": "stream",
     "text": [
      "-38.5516283138628 p = 0.000000000\n"
     ]
    }
   ],
   "source": [
    "# perform two sample t test to see gender has any impact on making more than $50K.\n",
    "# H0: There is no significant difference between the prooportion male or female who makes more than $50K\n",
    "import numpy as np\n",
    "from scipy import stats\n",
    "\n",
    "female_data=df[df['gender']=='Female'][['gender','target']]\n",
    "female_data=female_data['target'].apply(lambda x: 1 if x=='>50K' else 0)\n",
    "\n",
    "male_data=df[df['gender']=='Male'][['gender','target']]\n",
    "male_data=male_data['target'].apply(lambda x: 1 if x=='>50K' else 0)\n",
    "\n",
    "t2, p2 = stats.ttest_ind(female_data,male_data)\n",
    "print(str(t2), \"p = \" + format(p2,'.9f'))\n",
    "\n",
    "# conclusion : we reject the null hypothesis ( making more than $50K has not impact on gender) with a very small value \n",
    "#close to zero\n"
   ]
  },
  {
   "cell_type": "markdown",
   "metadata": {},
   "source": []
  },
  {
   "cell_type": "code",
   "execution_count": null,
   "metadata": {},
   "outputs": [],
   "source": [
    "Conclusion: We reject the null hypothesis. Being rich tends to depends on gender"
   ]
  },
  {
   "cell_type": "code",
   "execution_count": null,
   "metadata": {},
   "outputs": [],
   "source": [
    " x = np.concatenate((female_data, male_data))\n",
    "k2, p = stats.normaltest(x)\n",
    "k2\n"
   ]
  },
  {
   "cell_type": "code",
   "execution_count": null,
   "metadata": {},
   "outputs": [],
   "source": [
    "# perform chi-square test that being rich (making >50K) has no impact on a person who has money invested in stock or not\n",
    "# H0: Making more than $50K and investing money on stocks is not dependendent on each other.\n"
   ]
  },
  {
   "cell_type": "code",
   "execution_count": 17,
   "metadata": {},
   "outputs": [
    {
     "name": "stdout",
     "output_type": "stream",
     "text": [
      "4070.9103680666312 p = 0.000000000000000\n"
     ]
    }
   ],
   "source": [
    "from scipy.stats import chi2_contingency\n",
    "from scipy.stats import chi2\n",
    "\n",
    "crosstab = pd.crosstab(df['edu_level'], df['target'],margins=True)\n",
    "crosstab\n",
    "stat, p, dof, expected = chi2_contingency(crosstab)\n",
    "print(str(stat), \"p = \" + format(p,'.15f'))\n",
    "                    \n",
    "# Very low value of p - close to zero - so we reject the null hyposthesis that education level and making more than 50K is \n",
    "# independent."
   ]
  },
  {
   "cell_type": "markdown",
   "metadata": {},
   "source": [
    "Conclusion: We reject the null hypothesis. That is rich people have more money to invest in stocks."
   ]
  },
  {
   "cell_type": "markdown",
   "metadata": {},
   "source": [
    "# Machine Learning"
   ]
  },
  {
   "cell_type": "markdown",
   "metadata": {},
   "source": [
    "# In this section we will prepare the data for running algorithms. We will convert all categorical variables into dummy variables and split the data into column variables and the target variable."
   ]
  },
  {
   "cell_type": "markdown",
   "metadata": {},
   "source": [
    "#Starting Machine Learninng part"
   ]
  },
  {
   "cell_type": "code",
   "execution_count": 4,
   "metadata": {},
   "outputs": [
    {
     "data": {
      "text/plain": [
       "(30161, 13)"
      ]
     },
     "execution_count": 4,
     "metadata": {},
     "output_type": "execute_result"
    }
   ],
   "source": [
    "# Copy a dataset for machine learning\n",
    "data_machine=df.copy()\n",
    "data_machine.shape\n",
    "# delete the native country since it has only two percent data outside USA\n",
    "data_machine=data_machine.drop('native_country', axis=1)  \n",
    "data_machine.shape"
   ]
  },
  {
   "cell_type": "code",
   "execution_count": 17,
   "metadata": {},
   "outputs": [
    {
     "data": {
      "text/html": [
       "<div>\n",
       "<style scoped>\n",
       "    .dataframe tbody tr th:only-of-type {\n",
       "        vertical-align: middle;\n",
       "    }\n",
       "\n",
       "    .dataframe tbody tr th {\n",
       "        vertical-align: top;\n",
       "    }\n",
       "\n",
       "    .dataframe thead th {\n",
       "        text-align: right;\n",
       "    }\n",
       "</style>\n",
       "<table border=\"1\" class=\"dataframe\">\n",
       "  <thead>\n",
       "    <tr style=\"text-align: right;\">\n",
       "      <th></th>\n",
       "      <th>age</th>\n",
       "      <th>work_class</th>\n",
       "      <th>edu_level</th>\n",
       "      <th>yrs_edu</th>\n",
       "      <th>marital_stat</th>\n",
       "      <th>occupation</th>\n",
       "      <th>family_stat</th>\n",
       "      <th>race</th>\n",
       "      <th>gender</th>\n",
       "      <th>capital_gain</th>\n",
       "      <th>capital_loss</th>\n",
       "      <th>hrs_week</th>\n",
       "      <th>target</th>\n",
       "    </tr>\n",
       "  </thead>\n",
       "  <tbody>\n",
       "    <tr>\n",
       "      <th>0</th>\n",
       "      <td>50</td>\n",
       "      <td>Self-emp-not-inc</td>\n",
       "      <td>Bachelors</td>\n",
       "      <td>13</td>\n",
       "      <td>Married-civ-spouse</td>\n",
       "      <td>Exec-managerial</td>\n",
       "      <td>Husband</td>\n",
       "      <td>White</td>\n",
       "      <td>Male</td>\n",
       "      <td>0</td>\n",
       "      <td>0</td>\n",
       "      <td>13</td>\n",
       "      <td>&lt;=50K</td>\n",
       "    </tr>\n",
       "    <tr>\n",
       "      <th>1</th>\n",
       "      <td>38</td>\n",
       "      <td>Private</td>\n",
       "      <td>HS-grad</td>\n",
       "      <td>9</td>\n",
       "      <td>Divorced</td>\n",
       "      <td>Handlers-cleaners</td>\n",
       "      <td>Not-in-family</td>\n",
       "      <td>White</td>\n",
       "      <td>Male</td>\n",
       "      <td>0</td>\n",
       "      <td>0</td>\n",
       "      <td>40</td>\n",
       "      <td>&lt;=50K</td>\n",
       "    </tr>\n",
       "    <tr>\n",
       "      <th>2</th>\n",
       "      <td>53</td>\n",
       "      <td>Private</td>\n",
       "      <td>11th</td>\n",
       "      <td>7</td>\n",
       "      <td>Married-civ-spouse</td>\n",
       "      <td>Handlers-cleaners</td>\n",
       "      <td>Husband</td>\n",
       "      <td>Black</td>\n",
       "      <td>Male</td>\n",
       "      <td>0</td>\n",
       "      <td>0</td>\n",
       "      <td>40</td>\n",
       "      <td>&lt;=50K</td>\n",
       "    </tr>\n",
       "    <tr>\n",
       "      <th>3</th>\n",
       "      <td>28</td>\n",
       "      <td>Private</td>\n",
       "      <td>Bachelors</td>\n",
       "      <td>13</td>\n",
       "      <td>Married-civ-spouse</td>\n",
       "      <td>Prof-specialty</td>\n",
       "      <td>Wife</td>\n",
       "      <td>Black</td>\n",
       "      <td>Female</td>\n",
       "      <td>0</td>\n",
       "      <td>0</td>\n",
       "      <td>40</td>\n",
       "      <td>&lt;=50K</td>\n",
       "    </tr>\n",
       "    <tr>\n",
       "      <th>4</th>\n",
       "      <td>37</td>\n",
       "      <td>Private</td>\n",
       "      <td>Masters</td>\n",
       "      <td>14</td>\n",
       "      <td>Married-civ-spouse</td>\n",
       "      <td>Exec-managerial</td>\n",
       "      <td>Wife</td>\n",
       "      <td>White</td>\n",
       "      <td>Female</td>\n",
       "      <td>0</td>\n",
       "      <td>0</td>\n",
       "      <td>40</td>\n",
       "      <td>&lt;=50K</td>\n",
       "    </tr>\n",
       "  </tbody>\n",
       "</table>\n",
       "</div>"
      ],
      "text/plain": [
       "   age        work_class  edu_level  yrs_edu        marital_stat  \\\n",
       "0   50  Self-emp-not-inc  Bachelors       13  Married-civ-spouse   \n",
       "1   38           Private    HS-grad        9            Divorced   \n",
       "2   53           Private       11th        7  Married-civ-spouse   \n",
       "3   28           Private  Bachelors       13  Married-civ-spouse   \n",
       "4   37           Private    Masters       14  Married-civ-spouse   \n",
       "\n",
       "          occupation    family_stat   race  gender  capital_gain  \\\n",
       "0    Exec-managerial        Husband  White    Male             0   \n",
       "1  Handlers-cleaners  Not-in-family  White    Male             0   \n",
       "2  Handlers-cleaners        Husband  Black    Male             0   \n",
       "3     Prof-specialty           Wife  Black  Female             0   \n",
       "4    Exec-managerial           Wife  White  Female             0   \n",
       "\n",
       "   capital_loss  hrs_week target  \n",
       "0             0        13  <=50K  \n",
       "1             0        40  <=50K  \n",
       "2             0        40  <=50K  \n",
       "3             0        40  <=50K  \n",
       "4             0        40  <=50K  "
      ]
     },
     "execution_count": 17,
     "metadata": {},
     "output_type": "execute_result"
    }
   ],
   "source": [
    "data_machine.head()"
   ]
  },
  {
   "cell_type": "code",
   "execution_count": 5,
   "metadata": {},
   "outputs": [
    {
     "data": {
      "text/html": [
       "<div>\n",
       "<style scoped>\n",
       "    .dataframe tbody tr th:only-of-type {\n",
       "        vertical-align: middle;\n",
       "    }\n",
       "\n",
       "    .dataframe tbody tr th {\n",
       "        vertical-align: top;\n",
       "    }\n",
       "\n",
       "    .dataframe thead th {\n",
       "        text-align: right;\n",
       "    }\n",
       "</style>\n",
       "<table border=\"1\" class=\"dataframe\">\n",
       "  <thead>\n",
       "    <tr style=\"text-align: right;\">\n",
       "      <th></th>\n",
       "      <th>age</th>\n",
       "      <th>work_class</th>\n",
       "      <th>edu_level</th>\n",
       "      <th>yrs_edu</th>\n",
       "      <th>marital_stat</th>\n",
       "      <th>occupation</th>\n",
       "      <th>family_stat</th>\n",
       "      <th>race</th>\n",
       "      <th>gender</th>\n",
       "      <th>capital_gain</th>\n",
       "      <th>capital_loss</th>\n",
       "      <th>hrs_week</th>\n",
       "    </tr>\n",
       "  </thead>\n",
       "  <tbody>\n",
       "    <tr>\n",
       "      <th>0</th>\n",
       "      <td>50</td>\n",
       "      <td>Self-emp-not-inc</td>\n",
       "      <td>Bachelors</td>\n",
       "      <td>13</td>\n",
       "      <td>Married-civ-spouse</td>\n",
       "      <td>Exec-managerial</td>\n",
       "      <td>Husband</td>\n",
       "      <td>White</td>\n",
       "      <td>Male</td>\n",
       "      <td>0</td>\n",
       "      <td>0</td>\n",
       "      <td>13</td>\n",
       "    </tr>\n",
       "    <tr>\n",
       "      <th>1</th>\n",
       "      <td>38</td>\n",
       "      <td>Private</td>\n",
       "      <td>HS-grad</td>\n",
       "      <td>9</td>\n",
       "      <td>Divorced</td>\n",
       "      <td>Handlers-cleaners</td>\n",
       "      <td>Not-in-family</td>\n",
       "      <td>White</td>\n",
       "      <td>Male</td>\n",
       "      <td>0</td>\n",
       "      <td>0</td>\n",
       "      <td>40</td>\n",
       "    </tr>\n",
       "    <tr>\n",
       "      <th>2</th>\n",
       "      <td>53</td>\n",
       "      <td>Private</td>\n",
       "      <td>11th</td>\n",
       "      <td>7</td>\n",
       "      <td>Married-civ-spouse</td>\n",
       "      <td>Handlers-cleaners</td>\n",
       "      <td>Husband</td>\n",
       "      <td>Black</td>\n",
       "      <td>Male</td>\n",
       "      <td>0</td>\n",
       "      <td>0</td>\n",
       "      <td>40</td>\n",
       "    </tr>\n",
       "    <tr>\n",
       "      <th>3</th>\n",
       "      <td>28</td>\n",
       "      <td>Private</td>\n",
       "      <td>Bachelors</td>\n",
       "      <td>13</td>\n",
       "      <td>Married-civ-spouse</td>\n",
       "      <td>Prof-specialty</td>\n",
       "      <td>Wife</td>\n",
       "      <td>Black</td>\n",
       "      <td>Female</td>\n",
       "      <td>0</td>\n",
       "      <td>0</td>\n",
       "      <td>40</td>\n",
       "    </tr>\n",
       "    <tr>\n",
       "      <th>4</th>\n",
       "      <td>37</td>\n",
       "      <td>Private</td>\n",
       "      <td>Masters</td>\n",
       "      <td>14</td>\n",
       "      <td>Married-civ-spouse</td>\n",
       "      <td>Exec-managerial</td>\n",
       "      <td>Wife</td>\n",
       "      <td>White</td>\n",
       "      <td>Female</td>\n",
       "      <td>0</td>\n",
       "      <td>0</td>\n",
       "      <td>40</td>\n",
       "    </tr>\n",
       "  </tbody>\n",
       "</table>\n",
       "</div>"
      ],
      "text/plain": [
       "   age        work_class  edu_level  yrs_edu        marital_stat  \\\n",
       "0   50  Self-emp-not-inc  Bachelors       13  Married-civ-spouse   \n",
       "1   38           Private    HS-grad        9            Divorced   \n",
       "2   53           Private       11th        7  Married-civ-spouse   \n",
       "3   28           Private  Bachelors       13  Married-civ-spouse   \n",
       "4   37           Private    Masters       14  Married-civ-spouse   \n",
       "\n",
       "          occupation    family_stat   race  gender  capital_gain  \\\n",
       "0    Exec-managerial        Husband  White    Male             0   \n",
       "1  Handlers-cleaners  Not-in-family  White    Male             0   \n",
       "2  Handlers-cleaners        Husband  Black    Male             0   \n",
       "3     Prof-specialty           Wife  Black  Female             0   \n",
       "4    Exec-managerial           Wife  White  Female             0   \n",
       "\n",
       "   capital_loss  hrs_week  \n",
       "0             0        13  \n",
       "1             0        40  \n",
       "2             0        40  \n",
       "3             0        40  \n",
       "4             0        40  "
      ]
     },
     "execution_count": 5,
     "metadata": {},
     "output_type": "execute_result"
    }
   ],
   "source": [
    "y=data_machine['target'].apply(lambda x: 1 if x=='>50K' else 0)\n",
    "\n",
    "X=data_machine.drop('target',axis=1)\n",
    "X.head()"
   ]
  },
  {
   "cell_type": "code",
   "execution_count": 6,
   "metadata": {},
   "outputs": [],
   "source": [
    "#create dummy variables for all categorical variables\n",
    "X=pd.get_dummies(X)"
   ]
  },
  {
   "cell_type": "code",
   "execution_count": 7,
   "metadata": {},
   "outputs": [
    {
     "data": {
      "text/plain": [
       "(30161, 62)"
      ]
     },
     "execution_count": 7,
     "metadata": {},
     "output_type": "execute_result"
    }
   ],
   "source": [
    "X.shape"
   ]
  },
  {
   "cell_type": "markdown",
   "metadata": {},
   "source": [
    "# Machine learning datawork finished"
   ]
  },
  {
   "cell_type": "markdown",
   "metadata": {},
   "source": [
    "# Run algorithms"
   ]
  },
  {
   "cell_type": "code",
   "execution_count": null,
   "metadata": {},
   "outputs": [],
   "source": []
  },
  {
   "cell_type": "markdown",
   "metadata": {},
   "source": [
    "# split the data into training and testing"
   ]
  },
  {
   "cell_type": "code",
   "execution_count": 8,
   "metadata": {},
   "outputs": [
    {
     "name": "stdout",
     "output_type": "stream",
     "text": [
      "X_train  (20207, 62)\n",
      "X_test  (9954, 62)\n",
      "y_train  (20207,)\n",
      "y_test  (9954,)\n"
     ]
    }
   ],
   "source": [
    "from sklearn.model_selection import train_test_split\n",
    "X_train, X_test, y_train, y_test = train_test_split(X,y,test_size=0.33, random_state=42)\n",
    "print ('X_train ',X_train.shape)\n",
    "print ('X_test ',X_test.shape)\n",
    "print ('y_train ',y_train.shape)\n",
    "print ('y_test ',y_test.shape)"
   ]
  },
  {
   "cell_type": "code",
   "execution_count": 102,
   "metadata": {},
   "outputs": [],
   "source": [
    "#Let's perform a linear regression to see the linearity of the data\n",
    "#from sklearn.linear_model import LinearRegression\n",
    "#regressor = LinearRegression()  \n",
    "#regressor.fit(X, y)"
   ]
  },
  {
   "cell_type": "code",
   "execution_count": 103,
   "metadata": {},
   "outputs": [],
   "source": [
    "#To retrieve the intercept:\n",
    "#print(regressor.intercept_)\n",
    "#For retrieving the slope:\n",
    "#print(regressor.coef_.tolist())"
   ]
  },
  {
   "cell_type": "code",
   "execution_count": 104,
   "metadata": {},
   "outputs": [],
   "source": [
    "#coeff_df = pd.DataFrame(regressor.coef_, X.columns, columns=['Coefficient'])  \n"
   ]
  },
  {
   "cell_type": "markdown",
   "metadata": {},
   "source": [
    "Let us check linearity of the data by linear regression"
   ]
  },
  {
   "cell_type": "code",
   "execution_count": 97,
   "metadata": {},
   "outputs": [
    {
     "data": {
      "text/plain": [
       "age                                2.581689e-47\n",
       "yrs_edu                            9.240810e-73\n",
       "capital_gain                      1.978648e-170\n",
       "capital_loss                       4.686102e-75\n",
       "hrs_week                           7.923692e-54\n",
       "work_class_Federal-gov             3.862939e-05\n",
       "work_class_Local-gov               7.879697e-03\n",
       "work_class_Private                 6.295215e-01\n",
       "work_class_Self-emp-inc            2.415911e-03\n",
       "work_class_Self-emp-not-inc        8.917810e-08\n",
       "work_class_State-gov               4.737576e-04\n",
       "work_class_Without-pay             4.131022e-02\n",
       "edu_level_10th                     1.179233e-03\n",
       "edu_level_11th                     2.002382e-03\n",
       "edu_level_12th                     3.064342e-02\n",
       "edu_level_1st-4th                  8.551579e-01\n",
       "edu_level_5th-6th                  2.418244e-01\n",
       "edu_level_7th-8th                  3.221537e-06\n",
       "edu_level_9th                      3.337250e-04\n",
       "edu_level_Assoc-acdm               2.833707e-13\n",
       "edu_level_Assoc-voc                3.002026e-09\n",
       "edu_level_Bachelors                5.219598e-01\n",
       "edu_level_Doctorate                4.903264e-14\n",
       "edu_level_HS-grad                  4.721740e-40\n",
       "edu_level_Masters                  3.064261e-10\n",
       "edu_level_Preschool                3.722279e-01\n",
       "edu_level_Prof-school              2.095591e-13\n",
       "edu_level_Some-college             7.685831e-19\n",
       "marital_stat_Divorced              1.142984e-09\n",
       "marital_stat_Married-AF-spouse     6.151076e-02\n",
       "                                      ...      \n",
       "marital_stat_Never-married         1.146408e-12\n",
       "marital_stat_Separated             9.774583e-06\n",
       "marital_stat_Widowed               6.967244e-05\n",
       "occupation_Adm-clerical            2.497370e-01\n",
       "occupation_Armed-Forces            1.856748e-01\n",
       "occupation_Craft-repair            8.982054e-04\n",
       "occupation_Exec-managerial         2.915763e-29\n",
       "occupation_Farming-fishing         5.825106e-19\n",
       "occupation_Handlers-cleaners       8.019417e-09\n",
       "occupation_Machine-op-inspct       1.415391e-08\n",
       "occupation_Other-service           3.278751e-04\n",
       "occupation_Priv-house-serv         9.431621e-01\n",
       "occupation_Prof-specialty          1.529654e-06\n",
       "occupation_Protective-serv         1.247051e-04\n",
       "occupation_Sales                   6.451098e-03\n",
       "occupation_Tech-support            2.553701e-05\n",
       "occupation_Transport-moving        2.807225e-06\n",
       "family_stat_Husband                1.041632e-02\n",
       "family_stat_Not-in-family          2.553980e-35\n",
       "family_stat_Other-relative         3.310962e-17\n",
       "family_stat_Own-child              8.486164e-23\n",
       "family_stat_Unmarried              5.071925e-24\n",
       "family_stat_Wife                   1.582691e-19\n",
       "race_Amer-Indian-Eskimo            3.052054e-04\n",
       "race_Asian-Pac-Islander            1.315304e-04\n",
       "race_Black                         4.335254e-03\n",
       "race_Other                         1.278555e-04\n",
       "race_White                         6.464205e-02\n",
       "gender_Female                      1.680709e-48\n",
       "gender_Male                        4.236502e-15\n",
       "Name: P>|t|, Length: 62, dtype: float64"
      ]
     },
     "execution_count": 97,
     "metadata": {},
     "output_type": "execute_result"
    }
   ],
   "source": [
    "import statsmodels.api as sm\n",
    "mod = sm.OLS(y,X)\n",
    "fii = mod.fit()\n",
    "p_values = fii.summary2().tables[1]['P>|t|']\n",
    "p_values"
   ]
  },
  {
   "cell_type": "code",
   "execution_count": 98,
   "metadata": {},
   "outputs": [
    {
     "data": {
      "text/plain": [
       "age                               0.002811\n",
       "yrs_edu                           0.023742\n",
       "capital_gain                      0.000008\n",
       "capital_loss                      0.000091\n",
       "hrs_week                          0.002839\n",
       "work_class_Federal-gov            0.065021\n",
       "work_class_Local-gov             -0.037749\n",
       "work_class_Private               -0.006085\n",
       "work_class_Self-emp-inc           0.047495\n",
       "work_class_Self-emp-not-inc      -0.074391\n",
       "work_class_State-gov             -0.052539\n",
       "work_class_Without-pay           -0.163904\n",
       "edu_level_10th                   -0.042225\n",
       "edu_level_11th                   -0.035707\n",
       "edu_level_12th                   -0.037593\n",
       "edu_level_1st-4th                -0.004731\n",
       "edu_level_5th-6th                -0.023699\n",
       "edu_level_7th-8th                -0.073774\n",
       "edu_level_9th                    -0.059752\n",
       "edu_level_Assoc-acdm             -0.077788\n",
       "edu_level_Assoc-voc              -0.056734\n",
       "edu_level_Bachelors              -0.004072\n",
       "edu_level_Doctorate               0.117111\n",
       "edu_level_HS-grad                -0.071614\n",
       "edu_level_Masters                 0.057594\n",
       "edu_level_Preschool               0.037990\n",
       "edu_level_Prof-school             0.102138\n",
       "edu_level_Some-college           -0.049295\n",
       "marital_stat_Divorced            -0.083211\n",
       "marital_stat_Married-AF-spouse    0.126068\n",
       "                                    ...   \n",
       "marital_stat_Never-married       -0.092755\n",
       "marital_stat_Separated           -0.070758\n",
       "marital_stat_Widowed             -0.067408\n",
       "occupation_Adm-clerical          -0.011663\n",
       "occupation_Armed-Forces          -0.142280\n",
       "occupation_Craft-repair          -0.033180\n",
       "occupation_Exec-managerial        0.114193\n",
       "occupation_Farming-fishing       -0.120972\n",
       "occupation_Handlers-cleaners     -0.070819\n",
       "occupation_Machine-op-inspct     -0.063636\n",
       "occupation_Other-service         -0.036832\n",
       "occupation_Priv-house-serv        0.002024\n",
       "occupation_Prof-specialty         0.051152\n",
       "occupation_Protective-serv        0.060185\n",
       "occupation_Sales                  0.027622\n",
       "occupation_Tech-support           0.057616\n",
       "occupation_Transport-moving      -0.055562\n",
       "family_stat_Husband               0.043860\n",
       "family_stat_Not-in-family        -0.124394\n",
       "family_stat_Other-relative       -0.098505\n",
       "family_stat_Own-child            -0.098971\n",
       "family_stat_Unmarried            -0.111303\n",
       "family_stat_Wife                  0.167161\n",
       "race_Amer-Indian-Eskimo          -0.064411\n",
       "race_Asian-Pac-Islander          -0.044634\n",
       "race_Black                       -0.025068\n",
       "race_Other                       -0.074732\n",
       "race_White                       -0.013307\n",
       "gender_Female                    -0.144154\n",
       "gender_Male                      -0.077997\n",
       "Name: Coef., Length: 62, dtype: float64"
      ]
     },
     "execution_count": 98,
     "metadata": {},
     "output_type": "execute_result"
    }
   ],
   "source": [
    "\n",
    "coefficient=fii.summary2().tables[1]['Coef.']\n",
    "coefficient"
   ]
  },
  {
   "cell_type": "code",
   "execution_count": 101,
   "metadata": {},
   "outputs": [
    {
     "data": {
      "text/html": [
       "<div>\n",
       "<style scoped>\n",
       "    .dataframe tbody tr th:only-of-type {\n",
       "        vertical-align: middle;\n",
       "    }\n",
       "\n",
       "    .dataframe tbody tr th {\n",
       "        vertical-align: top;\n",
       "    }\n",
       "\n",
       "    .dataframe thead th {\n",
       "        text-align: right;\n",
       "    }\n",
       "</style>\n",
       "<table border=\"1\" class=\"dataframe\">\n",
       "  <thead>\n",
       "    <tr style=\"text-align: right;\">\n",
       "      <th></th>\n",
       "      <th>Coefficient</th>\n",
       "      <th>P_values</th>\n",
       "    </tr>\n",
       "  </thead>\n",
       "  <tbody>\n",
       "    <tr>\n",
       "      <th>age</th>\n",
       "      <td>0.002811</td>\n",
       "      <td>2.581689e-47</td>\n",
       "    </tr>\n",
       "    <tr>\n",
       "      <th>yrs_edu</th>\n",
       "      <td>0.023742</td>\n",
       "      <td>9.240810e-73</td>\n",
       "    </tr>\n",
       "    <tr>\n",
       "      <th>capital_gain</th>\n",
       "      <td>0.000008</td>\n",
       "      <td>1.978648e-170</td>\n",
       "    </tr>\n",
       "    <tr>\n",
       "      <th>capital_loss</th>\n",
       "      <td>0.000091</td>\n",
       "      <td>4.686102e-75</td>\n",
       "    </tr>\n",
       "    <tr>\n",
       "      <th>hrs_week</th>\n",
       "      <td>0.002839</td>\n",
       "      <td>7.923692e-54</td>\n",
       "    </tr>\n",
       "    <tr>\n",
       "      <th>work_class_Federal-gov</th>\n",
       "      <td>0.065021</td>\n",
       "      <td>3.862939e-05</td>\n",
       "    </tr>\n",
       "    <tr>\n",
       "      <th>work_class_Local-gov</th>\n",
       "      <td>-0.037749</td>\n",
       "      <td>7.879697e-03</td>\n",
       "    </tr>\n",
       "    <tr>\n",
       "      <th>work_class_Private</th>\n",
       "      <td>-0.006085</td>\n",
       "      <td>6.295215e-01</td>\n",
       "    </tr>\n",
       "    <tr>\n",
       "      <th>work_class_Self-emp-inc</th>\n",
       "      <td>0.047495</td>\n",
       "      <td>2.415911e-03</td>\n",
       "    </tr>\n",
       "    <tr>\n",
       "      <th>work_class_Self-emp-not-inc</th>\n",
       "      <td>-0.074391</td>\n",
       "      <td>8.917810e-08</td>\n",
       "    </tr>\n",
       "    <tr>\n",
       "      <th>work_class_State-gov</th>\n",
       "      <td>-0.052539</td>\n",
       "      <td>4.737576e-04</td>\n",
       "    </tr>\n",
       "    <tr>\n",
       "      <th>work_class_Without-pay</th>\n",
       "      <td>-0.163904</td>\n",
       "      <td>4.131022e-02</td>\n",
       "    </tr>\n",
       "    <tr>\n",
       "      <th>edu_level_10th</th>\n",
       "      <td>-0.042225</td>\n",
       "      <td>1.179233e-03</td>\n",
       "    </tr>\n",
       "    <tr>\n",
       "      <th>edu_level_11th</th>\n",
       "      <td>-0.035707</td>\n",
       "      <td>2.002382e-03</td>\n",
       "    </tr>\n",
       "    <tr>\n",
       "      <th>edu_level_12th</th>\n",
       "      <td>-0.037593</td>\n",
       "      <td>3.064342e-02</td>\n",
       "    </tr>\n",
       "    <tr>\n",
       "      <th>edu_level_1st-4th</th>\n",
       "      <td>-0.004731</td>\n",
       "      <td>8.551579e-01</td>\n",
       "    </tr>\n",
       "    <tr>\n",
       "      <th>edu_level_5th-6th</th>\n",
       "      <td>-0.023699</td>\n",
       "      <td>2.418244e-01</td>\n",
       "    </tr>\n",
       "    <tr>\n",
       "      <th>edu_level_7th-8th</th>\n",
       "      <td>-0.073774</td>\n",
       "      <td>3.221537e-06</td>\n",
       "    </tr>\n",
       "    <tr>\n",
       "      <th>edu_level_9th</th>\n",
       "      <td>-0.059752</td>\n",
       "      <td>3.337250e-04</td>\n",
       "    </tr>\n",
       "    <tr>\n",
       "      <th>edu_level_Assoc-acdm</th>\n",
       "      <td>-0.077788</td>\n",
       "      <td>2.833707e-13</td>\n",
       "    </tr>\n",
       "    <tr>\n",
       "      <th>edu_level_Assoc-voc</th>\n",
       "      <td>-0.056734</td>\n",
       "      <td>3.002026e-09</td>\n",
       "    </tr>\n",
       "    <tr>\n",
       "      <th>edu_level_Bachelors</th>\n",
       "      <td>-0.004072</td>\n",
       "      <td>5.219598e-01</td>\n",
       "    </tr>\n",
       "    <tr>\n",
       "      <th>edu_level_Doctorate</th>\n",
       "      <td>0.117111</td>\n",
       "      <td>4.903264e-14</td>\n",
       "    </tr>\n",
       "    <tr>\n",
       "      <th>edu_level_HS-grad</th>\n",
       "      <td>-0.071614</td>\n",
       "      <td>4.721740e-40</td>\n",
       "    </tr>\n",
       "    <tr>\n",
       "      <th>edu_level_Masters</th>\n",
       "      <td>0.057594</td>\n",
       "      <td>3.064261e-10</td>\n",
       "    </tr>\n",
       "    <tr>\n",
       "      <th>edu_level_Preschool</th>\n",
       "      <td>0.037990</td>\n",
       "      <td>3.722279e-01</td>\n",
       "    </tr>\n",
       "    <tr>\n",
       "      <th>edu_level_Prof-school</th>\n",
       "      <td>0.102138</td>\n",
       "      <td>2.095591e-13</td>\n",
       "    </tr>\n",
       "    <tr>\n",
       "      <th>edu_level_Some-college</th>\n",
       "      <td>-0.049295</td>\n",
       "      <td>7.685831e-19</td>\n",
       "    </tr>\n",
       "    <tr>\n",
       "      <th>marital_stat_Divorced</th>\n",
       "      <td>-0.083211</td>\n",
       "      <td>1.142984e-09</td>\n",
       "    </tr>\n",
       "    <tr>\n",
       "      <th>marital_stat_Married-AF-spouse</th>\n",
       "      <td>0.126068</td>\n",
       "      <td>6.151076e-02</td>\n",
       "    </tr>\n",
       "    <tr>\n",
       "      <th>...</th>\n",
       "      <td>...</td>\n",
       "      <td>...</td>\n",
       "    </tr>\n",
       "    <tr>\n",
       "      <th>marital_stat_Never-married</th>\n",
       "      <td>-0.092755</td>\n",
       "      <td>1.146408e-12</td>\n",
       "    </tr>\n",
       "    <tr>\n",
       "      <th>marital_stat_Separated</th>\n",
       "      <td>-0.070758</td>\n",
       "      <td>9.774583e-06</td>\n",
       "    </tr>\n",
       "    <tr>\n",
       "      <th>marital_stat_Widowed</th>\n",
       "      <td>-0.067408</td>\n",
       "      <td>6.967244e-05</td>\n",
       "    </tr>\n",
       "    <tr>\n",
       "      <th>occupation_Adm-clerical</th>\n",
       "      <td>-0.011663</td>\n",
       "      <td>2.497370e-01</td>\n",
       "    </tr>\n",
       "    <tr>\n",
       "      <th>occupation_Armed-Forces</th>\n",
       "      <td>-0.142280</td>\n",
       "      <td>1.856748e-01</td>\n",
       "    </tr>\n",
       "    <tr>\n",
       "      <th>occupation_Craft-repair</th>\n",
       "      <td>-0.033180</td>\n",
       "      <td>8.982054e-04</td>\n",
       "    </tr>\n",
       "    <tr>\n",
       "      <th>occupation_Exec-managerial</th>\n",
       "      <td>0.114193</td>\n",
       "      <td>2.915763e-29</td>\n",
       "    </tr>\n",
       "    <tr>\n",
       "      <th>occupation_Farming-fishing</th>\n",
       "      <td>-0.120972</td>\n",
       "      <td>5.825106e-19</td>\n",
       "    </tr>\n",
       "    <tr>\n",
       "      <th>occupation_Handlers-cleaners</th>\n",
       "      <td>-0.070819</td>\n",
       "      <td>8.019417e-09</td>\n",
       "    </tr>\n",
       "    <tr>\n",
       "      <th>occupation_Machine-op-inspct</th>\n",
       "      <td>-0.063636</td>\n",
       "      <td>1.415391e-08</td>\n",
       "    </tr>\n",
       "    <tr>\n",
       "      <th>occupation_Other-service</th>\n",
       "      <td>-0.036832</td>\n",
       "      <td>3.278751e-04</td>\n",
       "    </tr>\n",
       "    <tr>\n",
       "      <th>occupation_Priv-house-serv</th>\n",
       "      <td>0.002024</td>\n",
       "      <td>9.431621e-01</td>\n",
       "    </tr>\n",
       "    <tr>\n",
       "      <th>occupation_Prof-specialty</th>\n",
       "      <td>0.051152</td>\n",
       "      <td>1.529654e-06</td>\n",
       "    </tr>\n",
       "    <tr>\n",
       "      <th>occupation_Protective-serv</th>\n",
       "      <td>0.060185</td>\n",
       "      <td>1.247051e-04</td>\n",
       "    </tr>\n",
       "    <tr>\n",
       "      <th>occupation_Sales</th>\n",
       "      <td>0.027622</td>\n",
       "      <td>6.451098e-03</td>\n",
       "    </tr>\n",
       "    <tr>\n",
       "      <th>occupation_Tech-support</th>\n",
       "      <td>0.057616</td>\n",
       "      <td>2.553701e-05</td>\n",
       "    </tr>\n",
       "    <tr>\n",
       "      <th>occupation_Transport-moving</th>\n",
       "      <td>-0.055562</td>\n",
       "      <td>2.807225e-06</td>\n",
       "    </tr>\n",
       "    <tr>\n",
       "      <th>family_stat_Husband</th>\n",
       "      <td>0.043860</td>\n",
       "      <td>1.041632e-02</td>\n",
       "    </tr>\n",
       "    <tr>\n",
       "      <th>family_stat_Not-in-family</th>\n",
       "      <td>-0.124394</td>\n",
       "      <td>2.553980e-35</td>\n",
       "    </tr>\n",
       "    <tr>\n",
       "      <th>family_stat_Other-relative</th>\n",
       "      <td>-0.098505</td>\n",
       "      <td>3.310962e-17</td>\n",
       "    </tr>\n",
       "    <tr>\n",
       "      <th>family_stat_Own-child</th>\n",
       "      <td>-0.098971</td>\n",
       "      <td>8.486164e-23</td>\n",
       "    </tr>\n",
       "    <tr>\n",
       "      <th>family_stat_Unmarried</th>\n",
       "      <td>-0.111303</td>\n",
       "      <td>5.071925e-24</td>\n",
       "    </tr>\n",
       "    <tr>\n",
       "      <th>family_stat_Wife</th>\n",
       "      <td>0.167161</td>\n",
       "      <td>1.582691e-19</td>\n",
       "    </tr>\n",
       "    <tr>\n",
       "      <th>race_Amer-Indian-Eskimo</th>\n",
       "      <td>-0.064411</td>\n",
       "      <td>3.052054e-04</td>\n",
       "    </tr>\n",
       "    <tr>\n",
       "      <th>race_Asian-Pac-Islander</th>\n",
       "      <td>-0.044634</td>\n",
       "      <td>1.315304e-04</td>\n",
       "    </tr>\n",
       "    <tr>\n",
       "      <th>race_Black</th>\n",
       "      <td>-0.025068</td>\n",
       "      <td>4.335254e-03</td>\n",
       "    </tr>\n",
       "    <tr>\n",
       "      <th>race_Other</th>\n",
       "      <td>-0.074732</td>\n",
       "      <td>1.278555e-04</td>\n",
       "    </tr>\n",
       "    <tr>\n",
       "      <th>race_White</th>\n",
       "      <td>-0.013307</td>\n",
       "      <td>6.464205e-02</td>\n",
       "    </tr>\n",
       "    <tr>\n",
       "      <th>gender_Female</th>\n",
       "      <td>-0.144154</td>\n",
       "      <td>1.680709e-48</td>\n",
       "    </tr>\n",
       "    <tr>\n",
       "      <th>gender_Male</th>\n",
       "      <td>-0.077997</td>\n",
       "      <td>4.236502e-15</td>\n",
       "    </tr>\n",
       "  </tbody>\n",
       "</table>\n",
       "<p>62 rows × 2 columns</p>\n",
       "</div>"
      ],
      "text/plain": [
       "                                Coefficient       P_values\n",
       "age                                0.002811   2.581689e-47\n",
       "yrs_edu                            0.023742   9.240810e-73\n",
       "capital_gain                       0.000008  1.978648e-170\n",
       "capital_loss                       0.000091   4.686102e-75\n",
       "hrs_week                           0.002839   7.923692e-54\n",
       "work_class_Federal-gov             0.065021   3.862939e-05\n",
       "work_class_Local-gov              -0.037749   7.879697e-03\n",
       "work_class_Private                -0.006085   6.295215e-01\n",
       "work_class_Self-emp-inc            0.047495   2.415911e-03\n",
       "work_class_Self-emp-not-inc       -0.074391   8.917810e-08\n",
       "work_class_State-gov              -0.052539   4.737576e-04\n",
       "work_class_Without-pay            -0.163904   4.131022e-02\n",
       "edu_level_10th                    -0.042225   1.179233e-03\n",
       "edu_level_11th                    -0.035707   2.002382e-03\n",
       "edu_level_12th                    -0.037593   3.064342e-02\n",
       "edu_level_1st-4th                 -0.004731   8.551579e-01\n",
       "edu_level_5th-6th                 -0.023699   2.418244e-01\n",
       "edu_level_7th-8th                 -0.073774   3.221537e-06\n",
       "edu_level_9th                     -0.059752   3.337250e-04\n",
       "edu_level_Assoc-acdm              -0.077788   2.833707e-13\n",
       "edu_level_Assoc-voc               -0.056734   3.002026e-09\n",
       "edu_level_Bachelors               -0.004072   5.219598e-01\n",
       "edu_level_Doctorate                0.117111   4.903264e-14\n",
       "edu_level_HS-grad                 -0.071614   4.721740e-40\n",
       "edu_level_Masters                  0.057594   3.064261e-10\n",
       "edu_level_Preschool                0.037990   3.722279e-01\n",
       "edu_level_Prof-school              0.102138   2.095591e-13\n",
       "edu_level_Some-college            -0.049295   7.685831e-19\n",
       "marital_stat_Divorced             -0.083211   1.142984e-09\n",
       "marital_stat_Married-AF-spouse     0.126068   6.151076e-02\n",
       "...                                     ...            ...\n",
       "marital_stat_Never-married        -0.092755   1.146408e-12\n",
       "marital_stat_Separated            -0.070758   9.774583e-06\n",
       "marital_stat_Widowed              -0.067408   6.967244e-05\n",
       "occupation_Adm-clerical           -0.011663   2.497370e-01\n",
       "occupation_Armed-Forces           -0.142280   1.856748e-01\n",
       "occupation_Craft-repair           -0.033180   8.982054e-04\n",
       "occupation_Exec-managerial         0.114193   2.915763e-29\n",
       "occupation_Farming-fishing        -0.120972   5.825106e-19\n",
       "occupation_Handlers-cleaners      -0.070819   8.019417e-09\n",
       "occupation_Machine-op-inspct      -0.063636   1.415391e-08\n",
       "occupation_Other-service          -0.036832   3.278751e-04\n",
       "occupation_Priv-house-serv         0.002024   9.431621e-01\n",
       "occupation_Prof-specialty          0.051152   1.529654e-06\n",
       "occupation_Protective-serv         0.060185   1.247051e-04\n",
       "occupation_Sales                   0.027622   6.451098e-03\n",
       "occupation_Tech-support            0.057616   2.553701e-05\n",
       "occupation_Transport-moving       -0.055562   2.807225e-06\n",
       "family_stat_Husband                0.043860   1.041632e-02\n",
       "family_stat_Not-in-family         -0.124394   2.553980e-35\n",
       "family_stat_Other-relative        -0.098505   3.310962e-17\n",
       "family_stat_Own-child             -0.098971   8.486164e-23\n",
       "family_stat_Unmarried             -0.111303   5.071925e-24\n",
       "family_stat_Wife                   0.167161   1.582691e-19\n",
       "race_Amer-Indian-Eskimo           -0.064411   3.052054e-04\n",
       "race_Asian-Pac-Islander           -0.044634   1.315304e-04\n",
       "race_Black                        -0.025068   4.335254e-03\n",
       "race_Other                        -0.074732   1.278555e-04\n",
       "race_White                        -0.013307   6.464205e-02\n",
       "gender_Female                     -0.144154   1.680709e-48\n",
       "gender_Male                       -0.077997   4.236502e-15\n",
       "\n",
       "[62 rows x 2 columns]"
      ]
     },
     "execution_count": 101,
     "metadata": {},
     "output_type": "execute_result"
    }
   ],
   "source": [
    "coef_pvalues=pd.DataFrame(zip(coefficient,p_values),columns=['Coefficient','P_values'],index=X.columns)\n",
    "coef_pvalues"
   ]
  },
  {
   "cell_type": "markdown",
   "metadata": {},
   "source": [
    "Most of the variables are significant that is linearly related to the target variable"
   ]
  },
  {
   "cell_type": "markdown",
   "metadata": {},
   "source": [
    "# Logistic Regression"
   ]
  },
  {
   "cell_type": "code",
   "execution_count": null,
   "metadata": {},
   "outputs": [],
   "source": []
  },
  {
   "cell_type": "code",
   "execution_count": 9,
   "metadata": {},
   "outputs": [
    {
     "name": "stdout",
     "output_type": "stream",
     "text": [
      "0.8511151295961422\n"
     ]
    }
   ],
   "source": [
    "from sklearn.model_selection import train_test_split\n",
    "from sklearn.linear_model import LogisticRegression\n",
    "from sklearn.metrics import accuracy_score\n",
    "\n",
    "clf_lr = LogisticRegression(solver='lbfgs',max_iter=9000)\n",
    "# Fit the model on the trainng data.\n",
    "clf_lr.fit(X_train, y_train)\n",
    "# Print the accuracy from the testing data.\n",
    "print(accuracy_score(clf_lr.predict(X_test), y_test))\n",
    "\n"
   ]
  },
  {
   "cell_type": "code",
   "execution_count": 23,
   "metadata": {},
   "outputs": [],
   "source": [
    "# let's check some linearity of the data based logistic regression\n",
    "# capture all coefficients\n",
    "\n",
    "#capture_coef=list(clf_lr.coef_)\n",
    "#capture_coef=capture_coef[0].tolist()\n",
    "#influencials=[x for x in capture_coef if x > 0.05 or x<-0.05]"
   ]
  },
  {
   "cell_type": "code",
   "execution_count": 54,
   "metadata": {},
   "outputs": [
    {
     "name": "stdout",
     "output_type": "stream",
     "text": [
      "the best C is:  {'C': 0.1}\n",
      "the training score is  0.7868560399861434\n",
      "accuaracy score on test data  0.7957604982921439\n"
     ]
    }
   ],
   "source": [
    "#GridSearch\n",
    "from sklearn.model_selection import GridSearchCV\n",
    "tuned_parameters = {'C': [0.1, 0.5, 1, 5, 10, 50, 100]}\n",
    "grid = GridSearchCV(LogisticRegression(solver='sag',max_iter=3000), tuned_parameters, cv=5, scoring=\"accuracy\")\n",
    "grid=grid.fit(X_train, y_train)\n",
    "\n",
    "print(\"the best C is: \",grid.best_params_)\n",
    "print (\"the training score is \",grid.best_score_)\n",
    "acc_score=accuracy_score(grid.predict(X_test),y_test)\n",
    "print ('accuaracy score on test data ', acc_score)\n"
   ]
  },
  {
   "cell_type": "code",
   "execution_count": 55,
   "metadata": {},
   "outputs": [
    {
     "data": {
      "text/plain": [
       "0.7957604982921439"
      ]
     },
     "execution_count": 55,
     "metadata": {},
     "output_type": "execute_result"
    }
   ],
   "source": [
    "accuracy_score(y_test,grid.predict(X_test))"
   ]
  },
  {
   "cell_type": "code",
   "execution_count": null,
   "metadata": {},
   "outputs": [],
   "source": []
  },
  {
   "cell_type": "code",
   "execution_count": 56,
   "metadata": {},
   "outputs": [
    {
     "name": "stdout",
     "output_type": "stream",
     "text": [
      "0.8369499698613623\n",
      "0.8518183644765923\n",
      "0.8511151295961422\n",
      "0.851416515973478\n",
      "0.8500100462125778\n",
      "maximum score  0.8518183644765923\n"
     ]
    }
   ],
   "source": [
    "# try different value of C\n",
    "from sklearn.model_selection import train_test_split\n",
    "from sklearn.linear_model import LogisticRegression\n",
    "from sklearn.metrics import accuracy_score\n",
    "from sklearn import metrics\n",
    "Cs = [0.001, 0.1, 1, 10, 100]\n",
    "#X_train, X_test, y_train, y_test = train_test_split(X,y,test_size=0.33, random_state=42)\n",
    "\n",
    "spread=np.arange(len(Cs))\n",
    "score_list=[]\n",
    "for i in spread:   \n",
    "    clf_lr=LogisticRegression(C=Cs[i],solver='lbfgs', max_iter=3000)\n",
    "    clf_lr.fit(X_train, y_train)\n",
    "    score = metrics.accuracy_score(y_test, clf_lr.predict(X_test))\n",
    "    score_list.append(score)\n",
    "    print(score)\n",
    "print ('maximum score ' ,np.max(np.array(score_list)))"
   ]
  },
  {
   "cell_type": "code",
   "execution_count": 57,
   "metadata": {},
   "outputs": [
    {
     "name": "stdout",
     "output_type": "stream",
     "text": [
      "0.8511151295961422\n"
     ]
    }
   ],
   "source": [
    "#use the default\n",
    "from sklearn.model_selection import train_test_split\n",
    "from sklearn.linear_model import LogisticRegression\n",
    "from sklearn.metrics import accuracy_score\n",
    "\n",
    "clf_lr = LogisticRegression(solver='lbfgs',max_iter=9000)\n",
    "# Fit the model on the trainng data.\n",
    "clf_lr.fit(X_train, y_train)\n",
    "# Print the accuracy from the testing data.\n",
    "print(accuracy_score(clf_lr.predict(X_test), y_test))\n",
    "\n"
   ]
  },
  {
   "cell_type": "code",
   "execution_count": null,
   "metadata": {},
   "outputs": [],
   "source": []
  },
  {
   "cell_type": "markdown",
   "metadata": {},
   "source": [
    "# since gridsearch gives lower accuracy, default C=1 used."
   ]
  },
  {
   "cell_type": "code",
   "execution_count": null,
   "metadata": {},
   "outputs": [],
   "source": []
  },
  {
   "cell_type": "markdown",
   "metadata": {},
   "source": [
    "Prepare information for the graph"
   ]
  },
  {
   "cell_type": "code",
   "execution_count": 58,
   "metadata": {},
   "outputs": [
    {
     "name": "stdout",
     "output_type": "stream",
     "text": [
      "accuracy  0.8511151295961422\n",
      "confusion matrix\n",
      "  [[6993  531]\n",
      " [ 951 1479]]\n",
      "TPR 0.608641975308642\n",
      "FPR  0.07057416267942583\n",
      "TNR  0.9294258373205742\n",
      "FNR  0.39135802469135805\n",
      "AUC  0.769033906314608\n"
     ]
    }
   ],
   "source": [
    "#put all together now for logistic regression\n",
    "\n",
    "from sklearn.metrics import confusion_matrix\n",
    "from sklearn.metrics import roc_auc_score\n",
    "hold_accuracy=[]\n",
    "hold_TPR=[]\n",
    "hold_FPR =[]\n",
    "hold_TNR =[]\n",
    "hold_FNR=[]\n",
    "hold_AUC=[]\n",
    "\n",
    "cm=confusion_matrix(y_test,clf_lr.predict(X_test))\n",
    "get_accuracy=accuracy_score(clf_lr.predict(X_test), y_test)\n",
    "hold_accuracy.append(round(get_accuracy,2))\n",
    "print ('accuracy ',get_accuracy)\n",
    "print ('confusion matrix\\n ',cm)\n",
    "TPR=cm[1,1]/(cm[1,0]+cm[1,1])\n",
    "hold_TPR.append(round(TPR,2))\n",
    "print ('TPR' ,TPR)\n",
    "FPR=cm[0,1]/(cm[0,1]+cm[0,0])\n",
    "hold_FPR.append(round(FPR,2))\n",
    "print ('FPR ',FPR)\n",
    "TNR=cm[0,0]/(cm[0,0]+cm[0,1])\n",
    "hold_TNR.append(round(TNR,2))\n",
    "print ('TNR ',TNR)\n",
    "FNR=1-TPR\n",
    "hold_FNR.append(round(FNR,2))\n",
    "print ('FNR ',FNR)\n",
    "\n",
    "roc_auc_score(y_test, clf_lr.predict(X_test))\n",
    "AUC=roc_auc_score(y_test, clf_lr.predict(X_test))\n",
    "AUC\n",
    "hold_AUC.append(round(AUC,2))\n",
    "print ('AUC ',AUC)\n",
    "\n",
    "\n",
    "\n"
   ]
  },
  {
   "cell_type": "code",
   "execution_count": null,
   "metadata": {},
   "outputs": [],
   "source": []
  },
  {
   "cell_type": "code",
   "execution_count": null,
   "metadata": {},
   "outputs": [],
   "source": []
  },
  {
   "cell_type": "code",
   "execution_count": 93,
   "metadata": {},
   "outputs": [],
   "source": [
    "# capture all coefficients\n",
    "\n",
    "capture_coef=list(clf.coef_)\n",
    "capture_coef=capture_coef[0].tolist()\n",
    "capture_coef\n"
   ]
  },
  {
   "cell_type": "code",
   "execution_count": null,
   "metadata": {},
   "outputs": [],
   "source": []
  },
  {
   "cell_type": "code",
   "execution_count": null,
   "metadata": {},
   "outputs": [],
   "source": [
    "#capture_columns=X_train.columns\n",
    "#coef_table=pd.DataFrame(capture_coef, index=capture_columns, columns=['coefficients'])\n",
    "#coef_table.head()"
   ]
  },
  {
   "cell_type": "code",
   "execution_count": null,
   "metadata": {},
   "outputs": [],
   "source": [
    "#sorted_coef=coef_table.sort_values(by='coefficients')\n",
    "#sorted_coef.head()"
   ]
  },
  {
   "cell_type": "code",
   "execution_count": null,
   "metadata": {},
   "outputs": [],
   "source": [
    "#sorted_coef.tail()"
   ]
  },
  {
   "cell_type": "code",
   "execution_count": 60,
   "metadata": {},
   "outputs": [
    {
     "name": "stdout",
     "output_type": "stream",
     "text": [
      "VVVVVVVVV\n"
     ]
    }
   ],
   "source": [
    "print('VVVVVVVVV')"
   ]
  },
  {
   "cell_type": "markdown",
   "metadata": {},
   "source": [
    "# KNeigbors"
   ]
  },
  {
   "cell_type": "code",
   "execution_count": 61,
   "metadata": {},
   "outputs": [
    {
     "name": "stdout",
     "output_type": "stream",
     "text": [
      "0.8386578259995981\n"
     ]
    }
   ],
   "source": [
    "# Run default  used k-neigbors=5\n",
    "\n",
    "from sklearn.neighbors import KNeighborsClassifier\n",
    "from sklearn import metrics\n",
    "neigh = KNeighborsClassifier()\n",
    "neigh.fit(X_train, y_train) \n",
    "#print(neigh.predict(X))\n",
    "pred=neigh.predict(X_test)\n",
    "#neigh.score(y,pred.reshape(-1,1))\n",
    "y=np.array(y_test).reshape(-1,1)\n",
    "pred=np.array(pred).reshape(-1,1)\n",
    "\n",
    "metrics.accuracy_score(y_test,pred)\n",
    "accuracy=metrics.accuracy_score(y_test,pred)\n",
    "print (accuracy)"
   ]
  },
  {
   "cell_type": "code",
   "execution_count": 62,
   "metadata": {},
   "outputs": [
    {
     "name": "stdout",
     "output_type": "stream",
     "text": [
      "best param  {'n_neighbors': 8}\n",
      "best score  0.844162913841738\n"
     ]
    }
   ],
   "source": [
    "# gridsearch\n",
    "#Gridsearch for KNeighbors\n",
    "from sklearn.neighbors import KNeighborsClassifier\n",
    "from sklearn.model_selection import GridSearchCV\n",
    "#create new a knn model\n",
    "knn2 = KNeighborsClassifier()\n",
    "#create a dictionary of all values we want to test for n_neighbors\n",
    "param_grid = {'n_neighbors': np.arange(1,10)}\n",
    "#use gridsearch to test all values for n_neighbors\n",
    "knn_gscv = GridSearchCV(knn2, param_grid, cv=5)\n",
    "#fit model to data\n",
    "knn_gscv.fit(X_train, y_train)\n",
    "print ('best param ',knn_gscv.best_params_)\n",
    "print ('best score ',knn_gscv.best_score_ )"
   ]
  },
  {
   "cell_type": "code",
   "execution_count": 63,
   "metadata": {},
   "outputs": [
    {
     "data": {
      "text/plain": [
       "0.847598955193892"
      ]
     },
     "execution_count": 63,
     "metadata": {},
     "output_type": "execute_result"
    }
   ],
   "source": [
    "accuracy_score(y_test,knn_gscv.predict(X_test))"
   ]
  },
  {
   "cell_type": "markdown",
   "metadata": {},
   "source": [
    "improve a very little from number of neighbors = 4, default"
   ]
  },
  {
   "cell_type": "code",
   "execution_count": null,
   "metadata": {},
   "outputs": [],
   "source": []
  },
  {
   "cell_type": "code",
   "execution_count": 64,
   "metadata": {},
   "outputs": [
    {
     "name": "stdout",
     "output_type": "stream",
     "text": [
      "accuracy  0.847598955193892\n",
      "confusion matrix\n",
      "  [[7019  505]\n",
      " [1012 1418]]\n",
      "TPR 0.5835390946502058\n",
      "FPR  0.06711855396065923\n",
      "TNR  0.9328814460393408\n",
      "FNR  0.4164609053497942\n",
      "AUC  0.7582102703447733\n"
     ]
    }
   ],
   "source": [
    "cm=confusion_matrix(y_test,knn_gscv.predict(X_test))\n",
    "get_accuracy=accuracy_score(knn_gscv.predict(X_test), y_test)\n",
    "hold_accuracy.append(round(get_accuracy,2))\n",
    "print ('accuracy ',get_accuracy)\n",
    "print ('confusion matrix\\n ',cm)\n",
    "TPR=cm[1,1]/(cm[1,0]+cm[1,1])\n",
    "hold_TPR.append(round(TPR,2))\n",
    "print ('TPR' ,TPR)\n",
    "FPR=cm[0,1]/(cm[0,1]+cm[0,0])\n",
    "hold_FPR.append(round(FPR,2))\n",
    "print ('FPR ',FPR)\n",
    "TNR=cm[0,0]/(cm[0,0]+cm[0,1])\n",
    "hold_TNR.append(round(TNR,2))\n",
    "print ('TNR ',TNR)\n",
    "FNR=1-TPR\n",
    "hold_FNR.append(round(FNR,2))\n",
    "print ('FNR ',FNR)\n",
    "\n",
    "roc_auc_score(y_test, knn_gscv.predict(X_test))\n",
    "AUC=roc_auc_score(y_test, knn_gscv.predict(X_test))\n",
    "AUC\n",
    "hold_AUC.append(round(AUC,2))\n",
    "print ('AUC ',AUC)"
   ]
  },
  {
   "cell_type": "code",
   "execution_count": null,
   "metadata": {},
   "outputs": [],
   "source": []
  },
  {
   "cell_type": "markdown",
   "metadata": {},
   "source": [
    "# SVM"
   ]
  },
  {
   "cell_type": "code",
   "execution_count": 65,
   "metadata": {},
   "outputs": [
    {
     "data": {
      "text/plain": [
       "0.8575447056459715"
      ]
     },
     "execution_count": 65,
     "metadata": {},
     "output_type": "execute_result"
    }
   ],
   "source": [
    "# run deauflt\n",
    "from sklearn.svm import SVC\n",
    "from sklearn import metrics\n",
    "clf_cvm = SVC( gamma='auto')\n",
    "clf_cvm.fit(X_train,y_train) \n",
    "pred=clf_cvm.predict(X_test)\n",
    "metrics.accuracy_score(y_test, pred)\n"
   ]
  },
  {
   "cell_type": "markdown",
   "metadata": {},
   "source": [
    "we will not run gridsearch for svm as it takes too long time. Instead we loop through certain values of C to find the best one/"
   ]
  },
  {
   "cell_type": "code",
   "execution_count": null,
   "metadata": {},
   "outputs": [],
   "source": []
  },
  {
   "cell_type": "code",
   "execution_count": 66,
   "metadata": {},
   "outputs": [
    {
     "name": "stdout",
     "output_type": "stream",
     "text": [
      "for the value of C  1 [0.85403266 0.85625928 0.85205344 0.85399654 0.85420792]\n",
      "cv_scores mean:0.8541099659761056\n",
      "for the value of C  5 [0.8584859  0.86170213 0.85526967 0.85770849 0.85717822]\n",
      "cv_scores mean:0.8580688800061178\n",
      "for the value of C  10 [0.85799109 0.86095992 0.85378525 0.8569661  0.85643564]\n",
      "cv_scores mean:0.8572276020477304\n",
      "for the value of C  20 [0.85353785 0.85675408 0.85329045 0.85325415 0.85123762]\n",
      "cv_scores mean:0.8536148307467858\n",
      "for the value of C  50 [0.84710539 0.85155863 0.84413657 0.84954219 0.84579208]\n",
      "cv_scores mean:0.8476269730999972\n"
     ]
    }
   ],
   "source": [
    "#cross validation with a set of parameter values of C\n",
    "from sklearn.model_selection import cross_val_score\n",
    "from sklearn.metrics import classification_report\n",
    "from sklearn.svm import SVC\n",
    "import numpy as np\n",
    "#create a new KNN model\n",
    "value_C=[1,5,10,20,50]\n",
    "spread=np.arange(len(value_C))\n",
    "for i in spread:\n",
    "    clf_cv = SVC(C=value_C[i],gamma='auto')\n",
    "    cv_scores = cross_val_score(clf_cv, X_train, y_train, cv=5)\n",
    "    #print each cv score (accuracy) and average them\n",
    "    print('for the value of C ', value_C[i],cv_scores)\n",
    "    print('cv_scores mean:{}'.format(np.mean(cv_scores)))"
   ]
  },
  {
   "cell_type": "code",
   "execution_count": 67,
   "metadata": {},
   "outputs": [
    {
     "data": {
      "text/plain": [
       "0.8575447056459715"
      ]
     },
     "execution_count": 67,
     "metadata": {},
     "output_type": "execute_result"
    }
   ],
   "source": [
    "# did not chang so just use default\n",
    "# run deauflt again\n",
    "from sklearn.svm import SVC\n",
    "from sklearn import metrics\n",
    "clf_cvm = SVC( gamma='auto')\n",
    "clf_cvm.fit(X_train,y_train) \n",
    "pred=clf_cvm.predict(X_test)\n",
    "metrics.accuracy_score(y_test, pred)\n"
   ]
  },
  {
   "cell_type": "code",
   "execution_count": 68,
   "metadata": {},
   "outputs": [
    {
     "name": "stdout",
     "output_type": "stream",
     "text": [
      "accuracy  0.8575447056459715\n",
      "confusion matrix\n",
      "  [[7132  392]\n",
      " [1026 1404]]\n",
      "TPR 0.5777777777777777\n",
      "FPR  0.052099946836788945\n",
      "TNR  0.947900053163211\n",
      "FNR  0.4222222222222223\n",
      "AUC  0.7628389154704943\n"
     ]
    }
   ],
   "source": [
    "cm=confusion_matrix(y_test,clf_cvm.predict(X_test))\n",
    "get_accuracy=accuracy_score(clf_cvm.predict(X_test), y_test)\n",
    "hold_accuracy.append(round(get_accuracy,2))\n",
    "print ('accuracy ',get_accuracy)\n",
    "print ('confusion matrix\\n ',cm)\n",
    "TPR=cm[1,1]/(cm[1,0]+cm[1,1])\n",
    "hold_TPR.append(round(TPR,2))\n",
    "print ('TPR' ,TPR)\n",
    "FPR=cm[0,1]/(cm[0,1]+cm[0,0])\n",
    "hold_FPR.append(round(FPR,2))\n",
    "print ('FPR ',FPR)\n",
    "TNR=cm[0,0]/(cm[0,0]+cm[0,1])\n",
    "hold_TNR.append(round(TNR,2))\n",
    "print ('TNR ',TNR)\n",
    "FNR=1-TPR\n",
    "hold_FNR.append(round(FNR,2))\n",
    "print ('FNR ',FNR)\n",
    "\n",
    "roc_auc_score(y_test, clf_cvm.predict(X_test))\n",
    "AUC=roc_auc_score(y_test, clf_cvm.predict(X_test))\n",
    "AUC\n",
    "hold_AUC.append(round(AUC,2))\n",
    "print ('AUC ',AUC)"
   ]
  },
  {
   "cell_type": "code",
   "execution_count": null,
   "metadata": {},
   "outputs": [],
   "source": []
  },
  {
   "cell_type": "markdown",
   "metadata": {},
   "source": [
    "# Decision Trees"
   ]
  },
  {
   "cell_type": "code",
   "execution_count": 69,
   "metadata": {},
   "outputs": [
    {
     "name": "stdout",
     "output_type": "stream",
     "text": [
      "Accuracy: 0.8139441430580671\n"
     ]
    }
   ],
   "source": [
    "#Decision trees - Default\n",
    "from sklearn.tree import DecisionTreeClassifier # Import Decision Tree Classifier\n",
    "from sklearn import metrics #Import scikit-learn metrics module for accuracy calculation\n",
    "\n",
    "# Create Decision Tree classifer object\n",
    "clfTC = DecisionTreeClassifier()\n",
    "\n",
    "# Train Decision Tree Classifer\n",
    "clfTC = clfTC.fit(X_train,y_train)\n",
    "\n",
    "#Predict the response for test dataset\n",
    "y_pred = clfTC.predict(X_test)\n",
    "print(\"Accuracy:\",metrics.accuracy_score(y_test, y_pred))\n"
   ]
  },
  {
   "cell_type": "code",
   "execution_count": null,
   "metadata": {},
   "outputs": [],
   "source": []
  },
  {
   "cell_type": "code",
   "execution_count": 27,
   "metadata": {},
   "outputs": [
    {
     "name": "stdout",
     "output_type": "stream",
     "text": [
      "{'max_depth': 19, 'min_samples_split': 90}\n"
     ]
    }
   ],
   "source": [
    "#Gridsearch for decision trees\n",
    "from sklearn.tree import DecisionTreeClassifier\n",
    "from sklearn.model_selection import GridSearchCV \n",
    "parameters={'min_samples_split' : range(10,500,20),'max_depth': range(1,20,2)}\n",
    "clf_tree=DecisionTreeClassifier() \n",
    "clfDT=GridSearchCV(clf_tree,parameters,cv=5) \n",
    "clfDT.fit(X_train,y_train)\n",
    "print (clfDT.best_params_)"
   ]
  },
  {
   "cell_type": "code",
   "execution_count": 28,
   "metadata": {},
   "outputs": [
    {
     "data": {
      "text/plain": [
       "0.8508137432188065"
      ]
     },
     "execution_count": 28,
     "metadata": {},
     "output_type": "execute_result"
    }
   ],
   "source": [
    "accuracy_score(y_test,clfDT.predict(X_test))"
   ]
  },
  {
   "cell_type": "markdown",
   "metadata": {},
   "source": [
    "gridearch improved the accuracy rate"
   ]
  },
  {
   "cell_type": "code",
   "execution_count": 63,
   "metadata": {},
   "outputs": [],
   "source": [
    "# Since gridsearch does not provide important features - run it again with best params\n",
    "tree_importance=DecisionTreeClassifier(max_depth=19,min_samples_split=90)\n",
    "tree_importance=tree_importance.fit(X_train,y_train)\n",
    "importances = tree_importance.feature_importances_\n",
    "importances=importances.tolist()"
   ]
  },
  {
   "cell_type": "code",
   "execution_count": null,
   "metadata": {},
   "outputs": [],
   "source": []
  },
  {
   "cell_type": "code",
   "execution_count": null,
   "metadata": {},
   "outputs": [],
   "source": []
  },
  {
   "cell_type": "code",
   "execution_count": null,
   "metadata": {},
   "outputs": [],
   "source": []
  },
  {
   "cell_type": "code",
   "execution_count": 68,
   "metadata": {
    "scrolled": true
   },
   "outputs": [
    {
     "data": {
      "text/plain": [
       "[0.38505474069554513,\n",
       " 0.20720347863744862,\n",
       " 0.1803134882540803,\n",
       " 0.05713803157068985,\n",
       " 0.045125421491395916,\n",
       " 0.04228969934029083,\n",
       " 0.007222398572773121,\n",
       " 0.0068041995794176245,\n",
       " 0.006031374800137273,\n",
       " 0.005410758091280844,\n",
       " 0.00451283535912789,\n",
       " 0.004317130043727504,\n",
       " 0.0042371981466973576,\n",
       " 0.0032171679659497173]"
      ]
     },
     "execution_count": 68,
     "metadata": {},
     "output_type": "execute_result"
    }
   ],
   "source": [
    "combine=zip(X_test.columns,importances)\n",
    "chart=pd.DataFrame(combine,columns=['feature','importance'])\n",
    "important=chart.sort_values('importance', ascending=False)\n",
    "important=important.head(14)\n",
    "important.feature.tolist()\n",
    "important.importance.tolist()"
   ]
  },
  {
   "cell_type": "code",
   "execution_count": 70,
   "metadata": {},
   "outputs": [
    {
     "data": {
      "text/plain": [
       "1.0"
      ]
     },
     "execution_count": 70,
     "metadata": {},
     "output_type": "execute_result"
    }
   ],
   "source": [
    "see_total=chart.sort_values('importance', ascending=False)\n",
    "see_total['importance'].sum()"
   ]
  },
  {
   "cell_type": "code",
   "execution_count": 71,
   "metadata": {},
   "outputs": [
    {
     "data": {
      "text/plain": [
       "0.958877922548562"
      ]
     },
     "execution_count": 71,
     "metadata": {},
     "output_type": "execute_result"
    }
   ],
   "source": [
    "important['importance'].sum()"
   ]
  },
  {
   "cell_type": "code",
   "execution_count": 66,
   "metadata": {},
   "outputs": [
    {
     "data": {
      "text/html": [
       "<div>\n",
       "<style scoped>\n",
       "    .dataframe tbody tr th:only-of-type {\n",
       "        vertical-align: middle;\n",
       "    }\n",
       "\n",
       "    .dataframe tbody tr th {\n",
       "        vertical-align: top;\n",
       "    }\n",
       "\n",
       "    .dataframe thead th {\n",
       "        text-align: right;\n",
       "    }\n",
       "</style>\n",
       "<table border=\"1\" class=\"dataframe\">\n",
       "  <thead>\n",
       "    <tr style=\"text-align: right;\">\n",
       "      <th></th>\n",
       "      <th>feature</th>\n",
       "      <th>importance</th>\n",
       "    </tr>\n",
       "  </thead>\n",
       "  <tbody>\n",
       "    <tr>\n",
       "      <th>30</th>\n",
       "      <td>marital_stat_Married-civ-spouse</td>\n",
       "      <td>0.385055</td>\n",
       "    </tr>\n",
       "    <tr>\n",
       "      <th>1</th>\n",
       "      <td>yrs_edu</td>\n",
       "      <td>0.207203</td>\n",
       "    </tr>\n",
       "    <tr>\n",
       "      <th>2</th>\n",
       "      <td>capital_gain</td>\n",
       "      <td>0.180313</td>\n",
       "    </tr>\n",
       "    <tr>\n",
       "      <th>0</th>\n",
       "      <td>age</td>\n",
       "      <td>0.057138</td>\n",
       "    </tr>\n",
       "    <tr>\n",
       "      <th>3</th>\n",
       "      <td>capital_loss</td>\n",
       "      <td>0.045125</td>\n",
       "    </tr>\n",
       "    <tr>\n",
       "      <th>4</th>\n",
       "      <td>hrs_week</td>\n",
       "      <td>0.042290</td>\n",
       "    </tr>\n",
       "    <tr>\n",
       "      <th>38</th>\n",
       "      <td>occupation_Exec-managerial</td>\n",
       "      <td>0.007222</td>\n",
       "    </tr>\n",
       "    <tr>\n",
       "      <th>9</th>\n",
       "      <td>work_class_Self-emp-not-inc</td>\n",
       "      <td>0.006804</td>\n",
       "    </tr>\n",
       "    <tr>\n",
       "      <th>61</th>\n",
       "      <td>gender_Male</td>\n",
       "      <td>0.006031</td>\n",
       "    </tr>\n",
       "    <tr>\n",
       "      <th>42</th>\n",
       "      <td>occupation_Other-service</td>\n",
       "      <td>0.005411</td>\n",
       "    </tr>\n",
       "    <tr>\n",
       "      <th>54</th>\n",
       "      <td>family_stat_Wife</td>\n",
       "      <td>0.004513</td>\n",
       "    </tr>\n",
       "    <tr>\n",
       "      <th>48</th>\n",
       "      <td>occupation_Transport-moving</td>\n",
       "      <td>0.004317</td>\n",
       "    </tr>\n",
       "    <tr>\n",
       "      <th>39</th>\n",
       "      <td>occupation_Farming-fishing</td>\n",
       "      <td>0.004237</td>\n",
       "    </tr>\n",
       "    <tr>\n",
       "      <th>5</th>\n",
       "      <td>work_class_Federal-gov</td>\n",
       "      <td>0.003217</td>\n",
       "    </tr>\n",
       "  </tbody>\n",
       "</table>\n",
       "</div>"
      ],
      "text/plain": [
       "                            feature  importance\n",
       "30  marital_stat_Married-civ-spouse    0.385055\n",
       "1                           yrs_edu    0.207203\n",
       "2                      capital_gain    0.180313\n",
       "0                               age    0.057138\n",
       "3                      capital_loss    0.045125\n",
       "4                          hrs_week    0.042290\n",
       "38       occupation_Exec-managerial    0.007222\n",
       "9       work_class_Self-emp-not-inc    0.006804\n",
       "61                      gender_Male    0.006031\n",
       "42         occupation_Other-service    0.005411\n",
       "54                 family_stat_Wife    0.004513\n",
       "48      occupation_Transport-moving    0.004317\n",
       "39       occupation_Farming-fishing    0.004237\n",
       "5            work_class_Federal-gov    0.003217"
      ]
     },
     "execution_count": 66,
     "metadata": {},
     "output_type": "execute_result"
    }
   ],
   "source": [
    "important"
   ]
  },
  {
   "cell_type": "code",
   "execution_count": 57,
   "metadata": {},
   "outputs": [],
   "source": [
    " important.to_clipboard()"
   ]
  },
  {
   "cell_type": "code",
   "execution_count": null,
   "metadata": {},
   "outputs": [],
   "source": []
  },
  {
   "cell_type": "code",
   "execution_count": 72,
   "metadata": {},
   "outputs": [
    {
     "name": "stdout",
     "output_type": "stream",
     "text": [
      "accuracy  0.8506128189672494\n",
      "confusion matrix\n",
      "  [[6875  649]\n",
      " [ 838 1592]]\n",
      "TPR 0.6551440329218107\n",
      "FPR  0.08625730994152046\n",
      "TNR  0.9137426900584795\n",
      "FNR  0.34485596707818933\n",
      "AUC  0.784443361490145\n"
     ]
    }
   ],
   "source": [
    "cm=confusion_matrix(y_test,clfDT.predict(X_test))\n",
    "get_accuracy=accuracy_score(clfDT.predict(X_test), y_test)\n",
    "hold_accuracy.append(round(get_accuracy,2))\n",
    "print ('accuracy ',get_accuracy)\n",
    "print ('confusion matrix\\n ',cm)\n",
    "TPR=cm[1,1]/(cm[1,0]+cm[1,1])\n",
    "hold_TPR.append(round(TPR,2))\n",
    "print ('TPR' ,TPR)\n",
    "FPR=cm[0,1]/(cm[0,1]+cm[0,0])\n",
    "hold_FPR.append(round(FPR,2))\n",
    "print ('FPR ',FPR)\n",
    "TNR=cm[0,0]/(cm[0,0]+cm[0,1])\n",
    "hold_TNR.append(round(TNR,2))\n",
    "print ('TNR ',TNR)\n",
    "FNR=1-TPR\n",
    "hold_FNR.append(round(FNR,2))\n",
    "print ('FNR ',FNR)\n",
    "\n",
    "roc_auc_score(y_test, clfDT.predict(X_test))\n",
    "AUC=roc_auc_score(y_test, clfDT.predict(X_test))\n",
    "AUC\n",
    "hold_AUC.append(round(AUC,2))\n",
    "print ('AUC ',AUC)"
   ]
  },
  {
   "cell_type": "code",
   "execution_count": null,
   "metadata": {},
   "outputs": [],
   "source": []
  },
  {
   "cell_type": "code",
   "execution_count": null,
   "metadata": {},
   "outputs": [],
   "source": []
  },
  {
   "cell_type": "markdown",
   "metadata": {},
   "source": [
    "# Adaboost"
   ]
  },
  {
   "cell_type": "code",
   "execution_count": 75,
   "metadata": {},
   "outputs": [
    {
     "data": {
      "text/plain": [
       "0.8598553345388789"
      ]
     },
     "execution_count": 75,
     "metadata": {},
     "output_type": "execute_result"
    }
   ],
   "source": [
    "# run default adaboost\n",
    "from sklearn.ensemble import AdaBoostClassifier\n",
    "clf_ada = AdaBoostClassifier()\n",
    "clf_ada.fit(X_train, y_train) \n",
    "accuracy_score(y_test,clf_ada.predict(X_test))\n"
   ]
  },
  {
   "cell_type": "code",
   "execution_count": 76,
   "metadata": {},
   "outputs": [
    {
     "data": {
      "text/plain": [
       "0.8641752059473579"
      ]
     },
     "execution_count": 76,
     "metadata": {},
     "output_type": "execute_result"
    }
   ],
   "source": [
    "#GRIDSEARCH\n",
    "from sklearn.model_selection import cross_val_score\n",
    "ada=AdaBoostClassifier()\n",
    "search_grid={'n_estimators':[500,1000,2000],'learning_rate':[.001,0.01,.1]}\n",
    "search_ada=GridSearchCV(estimator=ada,param_grid=search_grid,scoring='accuracy',n_jobs=1,cv=8)\n",
    "search_ada.fit(X_train, y_train)\n",
    "accuracy_score(y_test, search_ada.predict(X_test))"
   ]
  },
  {
   "cell_type": "markdown",
   "metadata": {},
   "source": [
    "The accuracy score is almost same as default setting."
   ]
  },
  {
   "cell_type": "code",
   "execution_count": 77,
   "metadata": {},
   "outputs": [
    {
     "name": "stdout",
     "output_type": "stream",
     "text": [
      "accuracy  0.8641752059473579\n",
      "confusion matrix\n",
      "  [[7057  467]\n",
      " [ 885 1545]]\n",
      "TPR 0.6358024691358025\n",
      "FPR  0.062068048910154175\n",
      "TNR  0.9379319510898458\n",
      "FNR  0.3641975308641975\n",
      "AUC  0.7868672101128242\n"
     ]
    }
   ],
   "source": [
    "cm=confusion_matrix(y_test,search_ada.predict(X_test))\n",
    "get_accuracy=accuracy_score(search_ada.predict(X_test), y_test)\n",
    "hold_accuracy.append(round(get_accuracy,2))\n",
    "print ('accuracy ',get_accuracy)\n",
    "print ('confusion matrix\\n ',cm)\n",
    "TPR=cm[1,1]/(cm[1,0]+cm[1,1])\n",
    "hold_TPR.append(round(TPR,2))\n",
    "print ('TPR' ,TPR)\n",
    "FPR=cm[0,1]/(cm[0,1]+cm[0,0])\n",
    "hold_FPR.append(round(FPR,2))\n",
    "print ('FPR ',FPR)\n",
    "TNR=cm[0,0]/(cm[0,0]+cm[0,1])\n",
    "hold_TNR.append(round(TNR,2))\n",
    "print ('TNR ',TNR)\n",
    "FNR=1-TPR\n",
    "hold_FNR.append(round(FNR,2))\n",
    "print ('FNR ',FNR)\n",
    "\n",
    "roc_auc_score(y_test, search_ada.predict(X_test))\n",
    "AUC=roc_auc_score(y_test, search_ada.predict(X_test))\n",
    "AUC\n",
    "hold_AUC.append(round(AUC,2))\n",
    "print ('AUC ',AUC)"
   ]
  },
  {
   "cell_type": "code",
   "execution_count": null,
   "metadata": {},
   "outputs": [],
   "source": []
  },
  {
   "cell_type": "markdown",
   "metadata": {},
   "source": [
    "# Random forest"
   ]
  },
  {
   "cell_type": "code",
   "execution_count": 78,
   "metadata": {},
   "outputs": [
    {
     "name": "stderr",
     "output_type": "stream",
     "text": [
      "C:\\Users\\musht\\AppData\\Local\\Continuum\\anaconda3\\lib\\site-packages\\sklearn\\ensemble\\forest.py:246: FutureWarning: The default value of n_estimators will change from 10 in version 0.20 to 100 in 0.22.\n",
      "  \"10 in version 0.20 to 100 in 0.22.\", FutureWarning)\n"
     ]
    },
    {
     "data": {
      "text/plain": [
       "0.8370504319871408"
      ]
     },
     "execution_count": 78,
     "metadata": {},
     "output_type": "execute_result"
    }
   ],
   "source": [
    "#Random Forest\n",
    "from sklearn.model_selection import train_test_split\n",
    "from sklearn.ensemble import RandomForestClassifier\n",
    "from sklearn.metrics import accuracy_score\n",
    "from sklearn.metrics import confusion_matrix\n",
    "clfrf = RandomForestClassifier()\n",
    "clfrf.fit(X_train, y_train)\n",
    "accuracy_score(y_test,clfrf.predict(X_test))"
   ]
  },
  {
   "cell_type": "code",
   "execution_count": null,
   "metadata": {},
   "outputs": [],
   "source": []
  },
  {
   "cell_type": "code",
   "execution_count": 79,
   "metadata": {},
   "outputs": [
    {
     "data": {
      "text/plain": [
       "GridSearchCV(cv=5, error_score='raise-deprecating',\n",
       "       estimator=RandomForestClassifier(bootstrap=True, class_weight=None, criterion='gini',\n",
       "            max_depth=None, max_features='auto', max_leaf_nodes=None,\n",
       "            min_impurity_decrease=0.0, min_impurity_split=None,\n",
       "            min_samples_leaf=1, min_samples_split=2,\n",
       "            min_weight_fraction_leaf=0.0, n_estimators='warn', n_jobs=None,\n",
       "            oob_score=False, random_state=None, verbose=0,\n",
       "            warm_start=False),\n",
       "       fit_params=None, iid='warn', n_jobs=None,\n",
       "       param_grid={'n_estimators': [100, 300, 500], 'max_depth': [5, 8, 15], 'min_samples_leaf': [1, 2, 4]},\n",
       "       pre_dispatch='2*n_jobs', refit=True, return_train_score='warn',\n",
       "       scoring=None, verbose=0)"
      ]
     },
     "execution_count": 79,
     "metadata": {},
     "output_type": "execute_result"
    }
   ],
   "source": [
    "# gridsearch in randomforest\n",
    "from sklearn.model_selection import GridSearchCV\n",
    "\n",
    "gridsearch_forest = RandomForestClassifier()\n",
    "\n",
    "params = {\n",
    "    \"n_estimators\": [100, 300, 500],\n",
    "    \"max_depth\": [5,8,15],\n",
    "    \"min_samples_leaf\" : [1, 2, 4]\n",
    "}\n",
    "\n",
    "clf_rf = GridSearchCV(gridsearch_forest, param_grid=params, cv=5 )\n",
    "clf_rf.fit(X_train,y_train)"
   ]
  },
  {
   "cell_type": "code",
   "execution_count": null,
   "metadata": {},
   "outputs": [],
   "source": []
  },
  {
   "cell_type": "code",
   "execution_count": 80,
   "metadata": {},
   "outputs": [
    {
     "data": {
      "text/plain": [
       "{'max_depth': 15, 'min_samples_leaf': 1, 'n_estimators': 100}"
      ]
     },
     "execution_count": 80,
     "metadata": {},
     "output_type": "execute_result"
    }
   ],
   "source": [
    "clf_rf.best_params_"
   ]
  },
  {
   "cell_type": "code",
   "execution_count": 81,
   "metadata": {},
   "outputs": [
    {
     "data": {
      "text/plain": [
       "0.8571287177710695"
      ]
     },
     "execution_count": 81,
     "metadata": {},
     "output_type": "execute_result"
    }
   ],
   "source": [
    "clf_rf.best_score_"
   ]
  },
  {
   "cell_type": "code",
   "execution_count": 82,
   "metadata": {},
   "outputs": [
    {
     "name": "stdout",
     "output_type": "stream",
     "text": [
      "accuracy  0.8597548724131002\n",
      "confusion matrix\n",
      "  [[7127  397]\n",
      " [ 999 1431]]\n",
      "TPR 0.5888888888888889\n",
      "FPR  0.05276448697501329\n",
      "TNR  0.9472355130249868\n",
      "FNR  0.4111111111111111\n",
      "AUC  0.7680622009569379\n"
     ]
    }
   ],
   "source": [
    "cm=confusion_matrix(y_test,clf_rf.predict(X_test))\n",
    "get_accuracy=accuracy_score(clf_rf.predict(X_test), y_test)\n",
    "hold_accuracy.append(round(get_accuracy,2))\n",
    "print ('accuracy ',get_accuracy)\n",
    "print ('confusion matrix\\n ',cm)\n",
    "TPR=cm[1,1]/(cm[1,0]+cm[1,1])\n",
    "hold_TPR.append(round(TPR,2))\n",
    "print ('TPR' ,TPR)\n",
    "FPR=cm[0,1]/(cm[0,1]+cm[0,0])\n",
    "hold_FPR.append(round(FPR,2))\n",
    "print ('FPR ',FPR)\n",
    "TNR=cm[0,0]/(cm[0,0]+cm[0,1])\n",
    "hold_TNR.append(round(TNR,2))\n",
    "print ('TNR ',TNR)\n",
    "FNR=1-TPR\n",
    "hold_FNR.append(round(FNR,2))\n",
    "print ('FNR ',FNR)\n",
    "\n",
    "roc_auc_score(y_test, clf_rf.predict(X_test))\n",
    "AUC=roc_auc_score(y_test, clf_rf.predict(X_test))\n",
    "AUC\n",
    "hold_AUC.append(round(AUC,2))\n",
    "print ('AUC ',AUC)"
   ]
  },
  {
   "cell_type": "code",
   "execution_count": null,
   "metadata": {},
   "outputs": [],
   "source": [
    "\n"
   ]
  },
  {
   "cell_type": "code",
   "execution_count": 92,
   "metadata": {},
   "outputs": [
    {
     "data": {
      "image/png": "[encoded data removed]",
      "text/plain": [
       "<Figure size 720x720 with 1 Axes>"
      ]
     },
     "metadata": {
      "needs_background": "light"
     },
     "output_type": "display_data"
    }
   ],
   "source": [
    "import numpy as np\n",
    "import matplotlib\n",
    "import matplotlib.pyplot as plt\n",
    "import matplotlib as mpl\n",
    "# sphinx_gallery_thumbnail_number = 2\n",
    "mpl.rcParams[\"font.size\"] = 18\n",
    "\n",
    "metrices = [\"Accuracy\", \"TPR\", \"FPR\", \"TNR\",\n",
    "              \"FNR\", \"AUC\"]\n",
    "algorithms= [\"Logistic Regression\", \"K-Neighbors\", \"Support Vector Machine\",\n",
    "           \"Decision Trees\", \"Adaboost\", \"Random Forest\"]\n",
    "\n",
    "\n",
    "con_accuracy=np.array(hold_accuracy)\n",
    "con_TPR=np.array(hold_TPR)\n",
    "con_FPR=np.array(hold_FPR)\n",
    "con_TNR=np.array(hold_TNR)\n",
    "con_FNR=np.array(hold_FNR)\n",
    "con_AUC=np.array(hold_AUC)\n",
    "harvest = np.zeros(shape=(6,6))\n",
    "harvest[0]=hold_accuracy\n",
    "harvest[1]=hold_TPR\n",
    "harvest[2]=hold_FPR\n",
    "harvest[3]=hold_TNR\n",
    "harvest[4]=hold_FNR\n",
    "harvest[5]=hold_AUC\n",
    "\n",
    "fig, ax = plt.subplots()\n",
    "fig.set_size_inches(10, 10)\n",
    "im = ax.imshow(harvest)\n",
    "\n",
    "# We want to show all ticks...\n",
    "ax.set_xticks(np.arange(len(algorithms)))\n",
    "ax.set_yticks(np.arange(len(metrices)))\n",
    "# ... and label them with the respective list entries\n",
    "ax.set_xticklabels(algorithms)\n",
    "ax.set_yticklabels(metrices)\n",
    "\n",
    "# Rotate the tick labels and set their alignment.\n",
    "plt.setp(ax.get_xticklabels(), rotation=45, ha=\"right\",\n",
    "         rotation_mode=\"anchor\")\n",
    "\n",
    "# Loop over data dimensions and create text annotations.\n",
    "for i in range(len(metrices)):\n",
    "    for j in range(len(algorithms)):\n",
    "        text = ax.text(j, i, harvest[i, j],\n",
    "                       ha=\"center\", va=\"center\", color=\"r\")\n",
    "\n",
    "ax.set_title(\"Comparisons of evaluation metrics for the alogorithms\\n\",color='b')\n",
    "fig.tight_layout()\n",
    "plt.show()"
   ]
  },
  {
   "cell_type": "code",
   "execution_count": 115,
   "metadata": {},
   "outputs": [
    {
     "data": {
      "image/png": "[encoded data removed]",
      "text/plain": [
       "<Figure size 720x720 with 2 Axes>"
      ]
     },
     "metadata": {
      "needs_background": "light"
     },
     "output_type": "display_data"
    }
   ],
   "source": [
    "import matplotlib as mpl\n",
    "import matplotlib.pyplot as plt\n",
    "import numpy as np\n",
    "\n",
    "mpl.rcParams[\"font.size\"] = 18\n",
    "\n",
    "#numbers=np.array([[2,430,7,524]])\n",
    "xx=['Positive','Negative','Total']\n",
    "yy=[\"Total\"]\n",
    "\n",
    "yy=['Postive','Negative','Total']\n",
    "xx=[\" \"]\n",
    "numbers=np.array([[2430],[7524],[9954]])\n",
    "fig, (ax1,ax2) = plt.subplots(1,2)\n",
    "fig.set_size_inches(8, 4)\n",
    "im = ax1.imshow(numbers)\n",
    "mpl.rcParams[\"font.size\"] = 12\n",
    "# We want to show all ticks...\n",
    "ax1.set_xticks(np.arange(len(xx)))\n",
    "ax1.set_yticks(np.arange(len(yy)))\n",
    "# ... and label them with the respective list entries\n",
    "ax1.set_xticklabels(xx)\n",
    "ax1.set_yticklabels(yy)\n",
    "\n",
    "# Rotate the tick labels and set their alignment.\n",
    "#plt.setp(ax1.get_xticklabels(), rotation=90, ha=\"right\", rotation_mode=\"anchor\")\n",
    "plt.setp(ax1.get_xticklabels(),  ha=\"right\", rotation_mode=\"anchor\")\n",
    "mpl.rcParams[\"font.size\"] = 18\n",
    "# Loop over data dimensions and create text annotations.\n",
    "# Loop over data dimensions and create text annotations.\n",
    "for i in range(len(yy)):\n",
    "    for j in range(len(xx)):\n",
    "        text = ax1.text(j, i, numbers[i, j],\n",
    "                       ha=\"center\", va=\"center\", color=\"r\")\n",
    "\n",
    "\n",
    "ax1.set_title(\"Original Test Dataset\\n\")\n",
    "\n",
    "# try next one\n",
    "numbers=np.array([[1431,999],[397,7127]])\n",
    "\n",
    "xx=['Predicted Positive','Preddicted Negative']\n",
    "yy=[\"Actual Positive\",\"Actual Negative\"]\n",
    "fig.set_size_inches(10, 10)\n",
    "im = ax2.imshow(numbers)\n",
    "\n",
    "# We want to show all ticks...\n",
    "ax2.set_xticks(np.arange(len(xx)))\n",
    "ax2.set_yticks(np.arange(len(yy)))\n",
    "# ... and label them with the respective list entries\n",
    "ax2.set_xticklabels(xx)\n",
    "ax2.set_yticklabels(yy)\n",
    "\n",
    "# Rotate the tick labels and set their alignment.\n",
    "plt.setp(ax2.get_xticklabels(), rotation=45, ha=\"right\",\n",
    "         rotation_mode=\"anchor\")\n",
    "\n",
    "# Loop over data dimensions and create text annotations.\n",
    "# Loop over data dimensions and create text annotations.\n",
    "for i in range(len(yy)):\n",
    "    for j in range(len(xx)):\n",
    "        text = ax2.text(j, i, numbers[i, j],\n",
    "                       ha=\"center\", va=\"center\", color=\"r\")\n",
    "\n",
    "\n",
    "ax2.set_title(\"Outcome after Processing\\n\")\n",
    "\n",
    "\n",
    "fig.tight_layout()\n",
    "plt.show()\n"
   ]
  },
  {
   "cell_type": "code",
   "execution_count": null,
   "metadata": {},
   "outputs": [],
   "source": []
  },
  {
   "cell_type": "raw",
   "metadata": {},
   "source": []
  },
  {
   "cell_type": "code",
   "execution_count": null,
   "metadata": {},
   "outputs": [],
   "source": []
  }
 ],
 "metadata": {
  "kernelspec": {
   "display_name": "Python 3",
   "language": "python",
   "name": "python3"
  },
  "language_info": {
   "codemirror_mode": {
    "name": "ipython",
    "version": 3
   },
   "file_extension": ".py",
   "mimetype": "text/x-python",
   "name": "python",
   "nbconvert_exporter": "python",
   "pygments_lexer": "ipython3",
   "version": "3.7.3"
  }
 },
 "nbformat": 4,
 "nbformat_minor": 2
}
